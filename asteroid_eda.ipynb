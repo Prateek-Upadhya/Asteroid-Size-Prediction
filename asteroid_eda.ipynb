{
 "cells": [
  {
   "cell_type": "markdown",
   "metadata": {
    "id": "txrfknPxFaBL"
   },
   "source": [
    "#General Information"
   ]
  },
  {
   "cell_type": "markdown",
   "metadata": {
    "id": "O7EWS5siFSpM"
   },
   "source": [
    "Welcome to the final Assignment. We will be applying the concepts we have learned over this week to solve this week's assignments. So, Let's get started! Goodluck!\n",
    "\n",
    "Please fill out your name and email in the below cell\n",
    "\n"
   ]
  },
  {
   "cell_type": "code",
   "execution_count": 1,
   "metadata": {
    "id": "A0T7huARFeY1"
   },
   "outputs": [],
   "source": [
    "#NAME :Prateek Upadhya\n",
    "#EMAIL :f20200056@goa.bits-pilani.ac.in"
   ]
  },
  {
   "cell_type": "markdown",
   "metadata": {
    "id": "_A4G8rW3iFvT"
   },
   "source": [
    "Hello folks!\n",
    "We congratulate you for reaching the final assignments. We wish you luck for the same. In this notebook you're supposed to predict the asteroid size using various algorithms and find out the R2 Score. Fine tune the model to get best possible R2 Score."
   ]
  },
  {
   "cell_type": "markdown",
   "metadata": {},
   "source": [
    "# About the dataset\n",
    "\n",
    "The open asteroid dataset consists of records about the asteroids with their respective physical and basic products. We shall first clean the data and then apply various data modeling techniques to generate an accurate model which is capable of predicting the size of an asteroid in terms of its diameter. "
   ]
  },
  {
   "cell_type": "markdown",
   "metadata": {},
   "source": [
    "# Imports"
   ]
  },
  {
   "cell_type": "code",
   "execution_count": 2,
   "metadata": {},
   "outputs": [],
   "source": [
    "#Import all packages that will be used during this project.\n",
    "import pandas as pd\n",
    "import numpy as np\n",
    "import matplotlib.pyplot as plt\n",
    "import seaborn as sns\n",
    "from sklearn.model_selection import train_test_split\n",
    "from sklearn.preprocessing import StandardScaler\n",
    "import warnings\n",
    "warnings.simplefilter(action=\"ignore\", category=FutureWarning)\n",
    "\n",
    "#import scipy\n",
    "#from scipy import stats"
   ]
  },
  {
   "cell_type": "markdown",
   "metadata": {
    "id": "lbs94sYNcRY2"
   },
   "source": [
    "# Load The Asteroid data set and understand data stats"
   ]
  },
  {
   "cell_type": "code",
   "execution_count": 3,
   "metadata": {},
   "outputs": [],
   "source": [
    "astro_df = pd.read_csv(\"Asteroid_Updated.csv\", low_memory = False)"
   ]
  },
  {
   "cell_type": "code",
   "execution_count": 4,
   "metadata": {},
   "outputs": [
    {
     "data": {
      "text/html": [
       "<div>\n",
       "<style scoped>\n",
       "    .dataframe tbody tr th:only-of-type {\n",
       "        vertical-align: middle;\n",
       "    }\n",
       "\n",
       "    .dataframe tbody tr th {\n",
       "        vertical-align: top;\n",
       "    }\n",
       "\n",
       "    .dataframe thead th {\n",
       "        text-align: right;\n",
       "    }\n",
       "</style>\n",
       "<table border=\"1\" class=\"dataframe\">\n",
       "  <thead>\n",
       "    <tr style=\"text-align: right;\">\n",
       "      <th></th>\n",
       "      <th>name</th>\n",
       "      <th>a</th>\n",
       "      <th>e</th>\n",
       "      <th>i</th>\n",
       "      <th>om</th>\n",
       "      <th>w</th>\n",
       "      <th>q</th>\n",
       "      <th>ad</th>\n",
       "      <th>per_y</th>\n",
       "      <th>data_arc</th>\n",
       "      <th>...</th>\n",
       "      <th>UB</th>\n",
       "      <th>IR</th>\n",
       "      <th>spec_B</th>\n",
       "      <th>spec_T</th>\n",
       "      <th>G</th>\n",
       "      <th>moid</th>\n",
       "      <th>class</th>\n",
       "      <th>n</th>\n",
       "      <th>per</th>\n",
       "      <th>ma</th>\n",
       "    </tr>\n",
       "  </thead>\n",
       "  <tbody>\n",
       "    <tr>\n",
       "      <th>0</th>\n",
       "      <td>Ceres</td>\n",
       "      <td>2.769165</td>\n",
       "      <td>0.076009</td>\n",
       "      <td>10.594067</td>\n",
       "      <td>80.305532</td>\n",
       "      <td>73.597694</td>\n",
       "      <td>2.558684</td>\n",
       "      <td>2.979647</td>\n",
       "      <td>4.608202</td>\n",
       "      <td>8822.0</td>\n",
       "      <td>...</td>\n",
       "      <td>0.426</td>\n",
       "      <td>NaN</td>\n",
       "      <td>C</td>\n",
       "      <td>G</td>\n",
       "      <td>0.12</td>\n",
       "      <td>1.59478</td>\n",
       "      <td>MBA</td>\n",
       "      <td>0.213885</td>\n",
       "      <td>1683.145708</td>\n",
       "      <td>77.372096</td>\n",
       "    </tr>\n",
       "    <tr>\n",
       "      <th>1</th>\n",
       "      <td>Pallas</td>\n",
       "      <td>2.772466</td>\n",
       "      <td>0.230337</td>\n",
       "      <td>34.836234</td>\n",
       "      <td>173.080063</td>\n",
       "      <td>310.048857</td>\n",
       "      <td>2.133865</td>\n",
       "      <td>3.411067</td>\n",
       "      <td>4.616444</td>\n",
       "      <td>72318.0</td>\n",
       "      <td>...</td>\n",
       "      <td>0.284</td>\n",
       "      <td>NaN</td>\n",
       "      <td>B</td>\n",
       "      <td>B</td>\n",
       "      <td>0.11</td>\n",
       "      <td>1.23324</td>\n",
       "      <td>MBA</td>\n",
       "      <td>0.213503</td>\n",
       "      <td>1686.155999</td>\n",
       "      <td>59.699133</td>\n",
       "    </tr>\n",
       "    <tr>\n",
       "      <th>2</th>\n",
       "      <td>Juno</td>\n",
       "      <td>2.669150</td>\n",
       "      <td>0.256942</td>\n",
       "      <td>12.988919</td>\n",
       "      <td>169.852760</td>\n",
       "      <td>248.138626</td>\n",
       "      <td>1.983332</td>\n",
       "      <td>3.354967</td>\n",
       "      <td>4.360814</td>\n",
       "      <td>72684.0</td>\n",
       "      <td>...</td>\n",
       "      <td>0.433</td>\n",
       "      <td>NaN</td>\n",
       "      <td>Sk</td>\n",
       "      <td>S</td>\n",
       "      <td>0.32</td>\n",
       "      <td>1.03454</td>\n",
       "      <td>MBA</td>\n",
       "      <td>0.226019</td>\n",
       "      <td>1592.787285</td>\n",
       "      <td>34.925016</td>\n",
       "    </tr>\n",
       "    <tr>\n",
       "      <th>3</th>\n",
       "      <td>Vesta</td>\n",
       "      <td>2.361418</td>\n",
       "      <td>0.088721</td>\n",
       "      <td>7.141771</td>\n",
       "      <td>103.810804</td>\n",
       "      <td>150.728541</td>\n",
       "      <td>2.151909</td>\n",
       "      <td>2.570926</td>\n",
       "      <td>3.628837</td>\n",
       "      <td>24288.0</td>\n",
       "      <td>...</td>\n",
       "      <td>0.492</td>\n",
       "      <td>NaN</td>\n",
       "      <td>V</td>\n",
       "      <td>V</td>\n",
       "      <td>0.32</td>\n",
       "      <td>1.13948</td>\n",
       "      <td>MBA</td>\n",
       "      <td>0.271609</td>\n",
       "      <td>1325.432765</td>\n",
       "      <td>95.861936</td>\n",
       "    </tr>\n",
       "    <tr>\n",
       "      <th>4</th>\n",
       "      <td>Astraea</td>\n",
       "      <td>2.574249</td>\n",
       "      <td>0.191095</td>\n",
       "      <td>5.366988</td>\n",
       "      <td>141.576605</td>\n",
       "      <td>358.687607</td>\n",
       "      <td>2.082324</td>\n",
       "      <td>3.066174</td>\n",
       "      <td>4.130323</td>\n",
       "      <td>63507.0</td>\n",
       "      <td>...</td>\n",
       "      <td>0.411</td>\n",
       "      <td>NaN</td>\n",
       "      <td>S</td>\n",
       "      <td>S</td>\n",
       "      <td>NaN</td>\n",
       "      <td>1.09589</td>\n",
       "      <td>MBA</td>\n",
       "      <td>0.238632</td>\n",
       "      <td>1508.600458</td>\n",
       "      <td>282.366289</td>\n",
       "    </tr>\n",
       "  </tbody>\n",
       "</table>\n",
       "<p>5 rows × 31 columns</p>\n",
       "</div>"
      ],
      "text/plain": [
       "      name         a         e          i          om           w         q  \\\n",
       "0    Ceres  2.769165  0.076009  10.594067   80.305532   73.597694  2.558684   \n",
       "1   Pallas  2.772466  0.230337  34.836234  173.080063  310.048857  2.133865   \n",
       "2     Juno  2.669150  0.256942  12.988919  169.852760  248.138626  1.983332   \n",
       "3    Vesta  2.361418  0.088721   7.141771  103.810804  150.728541  2.151909   \n",
       "4  Astraea  2.574249  0.191095   5.366988  141.576605  358.687607  2.082324   \n",
       "\n",
       "         ad     per_y  data_arc  ...     UB  IR  spec_B spec_T     G     moid  \\\n",
       "0  2.979647  4.608202    8822.0  ...  0.426 NaN       C      G  0.12  1.59478   \n",
       "1  3.411067  4.616444   72318.0  ...  0.284 NaN       B      B  0.11  1.23324   \n",
       "2  3.354967  4.360814   72684.0  ...  0.433 NaN      Sk      S  0.32  1.03454   \n",
       "3  2.570926  3.628837   24288.0  ...  0.492 NaN       V      V  0.32  1.13948   \n",
       "4  3.066174  4.130323   63507.0  ...  0.411 NaN       S      S   NaN  1.09589   \n",
       "\n",
       "  class         n          per          ma  \n",
       "0   MBA  0.213885  1683.145708   77.372096  \n",
       "1   MBA  0.213503  1686.155999   59.699133  \n",
       "2   MBA  0.226019  1592.787285   34.925016  \n",
       "3   MBA  0.271609  1325.432765   95.861936  \n",
       "4   MBA  0.238632  1508.600458  282.366289  \n",
       "\n",
       "[5 rows x 31 columns]"
      ]
     },
     "execution_count": 4,
     "metadata": {},
     "output_type": "execute_result"
    }
   ],
   "source": [
    "astro_df.head()"
   ]
  },
  {
   "cell_type": "code",
   "execution_count": 5,
   "metadata": {},
   "outputs": [
    {
     "data": {
      "text/plain": [
       "(839714, 31)"
      ]
     },
     "execution_count": 5,
     "metadata": {},
     "output_type": "execute_result"
    }
   ],
   "source": [
    "astro_df.shape"
   ]
  },
  {
   "cell_type": "code",
   "execution_count": 6,
   "metadata": {},
   "outputs": [
    {
     "data": {
      "text/plain": [
       "Index(['name', 'a', 'e', 'i', 'om', 'w', 'q', 'ad', 'per_y', 'data_arc',\n",
       "       'condition_code', 'n_obs_used', 'H', 'neo', 'pha', 'diameter', 'extent',\n",
       "       'albedo', 'rot_per', 'GM', 'BV', 'UB', 'IR', 'spec_B', 'spec_T', 'G',\n",
       "       'moid', 'class', 'n', 'per', 'ma'],\n",
       "      dtype='object')"
      ]
     },
     "execution_count": 6,
     "metadata": {},
     "output_type": "execute_result"
    }
   ],
   "source": [
    "astro_df.columns"
   ]
  },
  {
   "cell_type": "markdown",
   "metadata": {},
   "source": [
    "### Rename columns for better understanding\n",
    "\n",
    "While processing data it is important for us to understand each and every feature well. This will help us in feature selection and in determining feature relevance and data types."
   ]
  },
  {
   "cell_type": "code",
   "execution_count": 7,
   "metadata": {},
   "outputs": [
    {
     "data": {
      "text/plain": [
       "Index(['obj_name', 'semi-major_axis(au)', 'eccentricity',\n",
       "       'x-y_inclination(deg)', 'longitude_asc_node', 'argument_perihelion',\n",
       "       'perihelion_dist(au)', 'aphelion_dist(au)', 'orbital_period',\n",
       "       'data_arc(d)', 'condition_code', 'n_obs_used', 'abs_mag_para',\n",
       "       'near_earth_obj', 'physically_hazardous_asteroid', 'diameter',\n",
       "       'axial_ellipsoid_dim(Km)', 'geo_albedo', 'rot_per(h)',\n",
       "       'std_gravitational_para', 'bv_color_mag_diff', 'ub_color_mag_diff',\n",
       "       'ir_color_mag_diff', 'SMASSII_spec_tax_type', 'Tholen_spec_tax_type',\n",
       "       'mag_slope_para', 'earth_min_oribit_inter_dist(au)', 'class',\n",
       "       'mean_motion(deg/d)', 'orbital_period(d)', 'mean_anomaly(deg)'],\n",
       "      dtype='object')"
      ]
     },
     "execution_count": 7,
     "metadata": {},
     "output_type": "execute_result"
    }
   ],
   "source": [
    "new_columns_dict = {'name':'obj_name','a':'semi-major_axis(au)','e':'eccentricity',\n",
    "                    'i':'x-y_inclination(deg)','om':'longitude_asc_node','w':'argument_perihelion',\n",
    "                    'q':'perihelion_dist(au)','ad':'aphelion_dist(au)', 'per_y':'orbital_period',\n",
    "                   'data_arc':'data_arc(d)','condition_code':'condition_code','n_obs_used':'n_obs_used',\n",
    "                   'H':'abs_mag_para', 'neo':'near_earth_obj', 'pha':'physically_hazardous_asteroid',\n",
    "                   'diameter':'diameter','extent':'axial_ellipsoid_dim(Km)','albedo':'geo_albedo',\n",
    "                   'rot_per':'rot_per(h)','GM':'std_gravitational_para','BV':'bv_color_mag_diff',\n",
    "                   'UB':'ub_color_mag_diff','IR':'ir_color_mag_diff','spec_B':'SMASSII_spec_tax_type',\n",
    "                   'spec_T':'Tholen_spec_tax_type','G':'mag_slope_para','moid':'earth_min_oribit_inter_dist(au)',\n",
    "                   'class':'class','n':'mean_motion(deg/d)','per':'orbital_period(d)','ma':'mean_anomaly(deg)'}\n",
    "\n",
    "astro_df = astro_df.rename(columns = new_columns_dict)\n",
    "astro_df.columns"
   ]
  },
  {
   "cell_type": "code",
   "execution_count": 8,
   "metadata": {},
   "outputs": [
    {
     "data": {
      "text/html": [
       "<div>\n",
       "<style scoped>\n",
       "    .dataframe tbody tr th:only-of-type {\n",
       "        vertical-align: middle;\n",
       "    }\n",
       "\n",
       "    .dataframe tbody tr th {\n",
       "        vertical-align: top;\n",
       "    }\n",
       "\n",
       "    .dataframe thead th {\n",
       "        text-align: right;\n",
       "    }\n",
       "</style>\n",
       "<table border=\"1\" class=\"dataframe\">\n",
       "  <thead>\n",
       "    <tr style=\"text-align: right;\">\n",
       "      <th></th>\n",
       "      <th>count</th>\n",
       "      <th>%</th>\n",
       "    </tr>\n",
       "  </thead>\n",
       "  <tbody>\n",
       "    <tr>\n",
       "      <th>eccentricity</th>\n",
       "      <td>0</td>\n",
       "      <td>0.000000</td>\n",
       "    </tr>\n",
       "    <tr>\n",
       "      <th>x-y_inclination(deg)</th>\n",
       "      <td>0</td>\n",
       "      <td>0.000000</td>\n",
       "    </tr>\n",
       "    <tr>\n",
       "      <th>longitude_asc_node</th>\n",
       "      <td>0</td>\n",
       "      <td>0.000000</td>\n",
       "    </tr>\n",
       "    <tr>\n",
       "      <th>argument_perihelion</th>\n",
       "      <td>0</td>\n",
       "      <td>0.000000</td>\n",
       "    </tr>\n",
       "    <tr>\n",
       "      <th>perihelion_dist(au)</th>\n",
       "      <td>0</td>\n",
       "      <td>0.000000</td>\n",
       "    </tr>\n",
       "    <tr>\n",
       "      <th>class</th>\n",
       "      <td>0</td>\n",
       "      <td>0.000000</td>\n",
       "    </tr>\n",
       "    <tr>\n",
       "      <th>n_obs_used</th>\n",
       "      <td>0</td>\n",
       "      <td>0.000000</td>\n",
       "    </tr>\n",
       "    <tr>\n",
       "      <th>orbital_period</th>\n",
       "      <td>1</td>\n",
       "      <td>0.000119</td>\n",
       "    </tr>\n",
       "    <tr>\n",
       "      <th>semi-major_axis(au)</th>\n",
       "      <td>2</td>\n",
       "      <td>0.000238</td>\n",
       "    </tr>\n",
       "    <tr>\n",
       "      <th>mean_motion(deg/d)</th>\n",
       "      <td>2</td>\n",
       "      <td>0.000238</td>\n",
       "    </tr>\n",
       "    <tr>\n",
       "      <th>aphelion_dist(au)</th>\n",
       "      <td>6</td>\n",
       "      <td>0.000715</td>\n",
       "    </tr>\n",
       "    <tr>\n",
       "      <th>near_earth_obj</th>\n",
       "      <td>6</td>\n",
       "      <td>0.000715</td>\n",
       "    </tr>\n",
       "    <tr>\n",
       "      <th>orbital_period(d)</th>\n",
       "      <td>6</td>\n",
       "      <td>0.000715</td>\n",
       "    </tr>\n",
       "    <tr>\n",
       "      <th>mean_anomaly(deg)</th>\n",
       "      <td>8</td>\n",
       "      <td>0.000953</td>\n",
       "    </tr>\n",
       "    <tr>\n",
       "      <th>condition_code</th>\n",
       "      <td>867</td>\n",
       "      <td>0.103249</td>\n",
       "    </tr>\n",
       "    <tr>\n",
       "      <th>abs_mag_para</th>\n",
       "      <td>2689</td>\n",
       "      <td>0.320228</td>\n",
       "    </tr>\n",
       "    <tr>\n",
       "      <th>data_arc(d)</th>\n",
       "      <td>15474</td>\n",
       "      <td>1.842770</td>\n",
       "    </tr>\n",
       "    <tr>\n",
       "      <th>physically_hazardous_asteroid</th>\n",
       "      <td>16442</td>\n",
       "      <td>1.958048</td>\n",
       "    </tr>\n",
       "    <tr>\n",
       "      <th>earth_min_oribit_inter_dist(au)</th>\n",
       "      <td>16442</td>\n",
       "      <td>1.958048</td>\n",
       "    </tr>\n",
       "    <tr>\n",
       "      <th>diameter</th>\n",
       "      <td>702078</td>\n",
       "      <td>83.609181</td>\n",
       "    </tr>\n",
       "    <tr>\n",
       "      <th>geo_albedo</th>\n",
       "      <td>703305</td>\n",
       "      <td>83.755302</td>\n",
       "    </tr>\n",
       "    <tr>\n",
       "      <th>obj_name</th>\n",
       "      <td>817747</td>\n",
       "      <td>97.383990</td>\n",
       "    </tr>\n",
       "    <tr>\n",
       "      <th>rot_per(h)</th>\n",
       "      <td>820918</td>\n",
       "      <td>97.761619</td>\n",
       "    </tr>\n",
       "    <tr>\n",
       "      <th>SMASSII_spec_tax_type</th>\n",
       "      <td>838048</td>\n",
       "      <td>99.801599</td>\n",
       "    </tr>\n",
       "    <tr>\n",
       "      <th>bv_color_mag_diff</th>\n",
       "      <td>838693</td>\n",
       "      <td>99.878411</td>\n",
       "    </tr>\n",
       "    <tr>\n",
       "      <th>Tholen_spec_tax_type</th>\n",
       "      <td>838734</td>\n",
       "      <td>99.883294</td>\n",
       "    </tr>\n",
       "    <tr>\n",
       "      <th>ub_color_mag_diff</th>\n",
       "      <td>838735</td>\n",
       "      <td>99.883413</td>\n",
       "    </tr>\n",
       "    <tr>\n",
       "      <th>mag_slope_para</th>\n",
       "      <td>839595</td>\n",
       "      <td>99.985829</td>\n",
       "    </tr>\n",
       "    <tr>\n",
       "      <th>axial_ellipsoid_dim(Km)</th>\n",
       "      <td>839696</td>\n",
       "      <td>99.997856</td>\n",
       "    </tr>\n",
       "    <tr>\n",
       "      <th>std_gravitational_para</th>\n",
       "      <td>839700</td>\n",
       "      <td>99.998333</td>\n",
       "    </tr>\n",
       "    <tr>\n",
       "      <th>ir_color_mag_diff</th>\n",
       "      <td>839713</td>\n",
       "      <td>99.999881</td>\n",
       "    </tr>\n",
       "  </tbody>\n",
       "</table>\n",
       "</div>"
      ],
      "text/plain": [
       "                                  count          %\n",
       "eccentricity                          0   0.000000\n",
       "x-y_inclination(deg)                  0   0.000000\n",
       "longitude_asc_node                    0   0.000000\n",
       "argument_perihelion                   0   0.000000\n",
       "perihelion_dist(au)                   0   0.000000\n",
       "class                                 0   0.000000\n",
       "n_obs_used                            0   0.000000\n",
       "orbital_period                        1   0.000119\n",
       "semi-major_axis(au)                   2   0.000238\n",
       "mean_motion(deg/d)                    2   0.000238\n",
       "aphelion_dist(au)                     6   0.000715\n",
       "near_earth_obj                        6   0.000715\n",
       "orbital_period(d)                     6   0.000715\n",
       "mean_anomaly(deg)                     8   0.000953\n",
       "condition_code                      867   0.103249\n",
       "abs_mag_para                       2689   0.320228\n",
       "data_arc(d)                       15474   1.842770\n",
       "physically_hazardous_asteroid     16442   1.958048\n",
       "earth_min_oribit_inter_dist(au)   16442   1.958048\n",
       "diameter                         702078  83.609181\n",
       "geo_albedo                       703305  83.755302\n",
       "obj_name                         817747  97.383990\n",
       "rot_per(h)                       820918  97.761619\n",
       "SMASSII_spec_tax_type            838048  99.801599\n",
       "bv_color_mag_diff                838693  99.878411\n",
       "Tholen_spec_tax_type             838734  99.883294\n",
       "ub_color_mag_diff                838735  99.883413\n",
       "mag_slope_para                   839595  99.985829\n",
       "axial_ellipsoid_dim(Km)          839696  99.997856\n",
       "std_gravitational_para           839700  99.998333\n",
       "ir_color_mag_diff                839713  99.999881"
      ]
     },
     "execution_count": 8,
     "metadata": {},
     "output_type": "execute_result"
    }
   ],
   "source": [
    "#Displays count of missing values and respective percentage for every feature\n",
    "\n",
    "missing= pd.concat([pd.isnull(astro_df).sum(), 100 * pd.isnull(astro_df).mean()], axis=1)\n",
    "missing.columns=['count', '%']\n",
    "missing.sort_values(by=['count'])"
   ]
  },
  {
   "cell_type": "markdown",
   "metadata": {},
   "source": [
    "# Dealing with Null values\n",
    "\n",
    "- The diameter is the target variable which we are trying to predict. As a result - we cannot tolerate any null values for this variable. The null count-percentage tabel shows that 83 percent of all the data points have a null diameter entry. Since the proportion high, we cannot fill the null values with mean/median or any other statistical tendencies. This would result in high bias error. Hence we will drop all the null values in diameter. \n",
    "\n",
    "- Given that we have a large enough dataset, dropping 83% of the values still leaves behind 137636 data points - which are sufficient to train the data."
   ]
  },
  {
   "cell_type": "code",
   "execution_count": 9,
   "metadata": {},
   "outputs": [
    {
     "data": {
      "text/plain": [
       "(137636, 31)"
      ]
     },
     "execution_count": 9,
     "metadata": {},
     "output_type": "execute_result"
    }
   ],
   "source": [
    "#drops all null rows in diameter\n",
    "astro_df = astro_df.dropna(axis = 0, subset = ['diameter'])\n",
    "astro_df.shape"
   ]
  },
  {
   "cell_type": "code",
   "execution_count": 10,
   "metadata": {},
   "outputs": [
    {
     "data": {
      "text/html": [
       "<div>\n",
       "<style scoped>\n",
       "    .dataframe tbody tr th:only-of-type {\n",
       "        vertical-align: middle;\n",
       "    }\n",
       "\n",
       "    .dataframe tbody tr th {\n",
       "        vertical-align: top;\n",
       "    }\n",
       "\n",
       "    .dataframe thead th {\n",
       "        text-align: right;\n",
       "    }\n",
       "</style>\n",
       "<table border=\"1\" class=\"dataframe\">\n",
       "  <thead>\n",
       "    <tr style=\"text-align: right;\">\n",
       "      <th></th>\n",
       "      <th>count</th>\n",
       "      <th>%</th>\n",
       "    </tr>\n",
       "  </thead>\n",
       "  <tbody>\n",
       "    <tr>\n",
       "      <th>diameter</th>\n",
       "      <td>0</td>\n",
       "      <td>0.000000</td>\n",
       "    </tr>\n",
       "    <tr>\n",
       "      <th>mean_motion(deg/d)</th>\n",
       "      <td>0</td>\n",
       "      <td>0.000000</td>\n",
       "    </tr>\n",
       "    <tr>\n",
       "      <th>class</th>\n",
       "      <td>0</td>\n",
       "      <td>0.000000</td>\n",
       "    </tr>\n",
       "    <tr>\n",
       "      <th>earth_min_oribit_inter_dist(au)</th>\n",
       "      <td>0</td>\n",
       "      <td>0.000000</td>\n",
       "    </tr>\n",
       "    <tr>\n",
       "      <th>orbital_period(d)</th>\n",
       "      <td>0</td>\n",
       "      <td>0.000000</td>\n",
       "    </tr>\n",
       "    <tr>\n",
       "      <th>physically_hazardous_asteroid</th>\n",
       "      <td>0</td>\n",
       "      <td>0.000000</td>\n",
       "    </tr>\n",
       "    <tr>\n",
       "      <th>near_earth_obj</th>\n",
       "      <td>0</td>\n",
       "      <td>0.000000</td>\n",
       "    </tr>\n",
       "    <tr>\n",
       "      <th>n_obs_used</th>\n",
       "      <td>0</td>\n",
       "      <td>0.000000</td>\n",
       "    </tr>\n",
       "    <tr>\n",
       "      <th>condition_code</th>\n",
       "      <td>0</td>\n",
       "      <td>0.000000</td>\n",
       "    </tr>\n",
       "    <tr>\n",
       "      <th>mean_anomaly(deg)</th>\n",
       "      <td>0</td>\n",
       "      <td>0.000000</td>\n",
       "    </tr>\n",
       "    <tr>\n",
       "      <th>orbital_period</th>\n",
       "      <td>0</td>\n",
       "      <td>0.000000</td>\n",
       "    </tr>\n",
       "    <tr>\n",
       "      <th>aphelion_dist(au)</th>\n",
       "      <td>0</td>\n",
       "      <td>0.000000</td>\n",
       "    </tr>\n",
       "    <tr>\n",
       "      <th>perihelion_dist(au)</th>\n",
       "      <td>0</td>\n",
       "      <td>0.000000</td>\n",
       "    </tr>\n",
       "    <tr>\n",
       "      <th>argument_perihelion</th>\n",
       "      <td>0</td>\n",
       "      <td>0.000000</td>\n",
       "    </tr>\n",
       "    <tr>\n",
       "      <th>longitude_asc_node</th>\n",
       "      <td>0</td>\n",
       "      <td>0.000000</td>\n",
       "    </tr>\n",
       "    <tr>\n",
       "      <th>semi-major_axis(au)</th>\n",
       "      <td>0</td>\n",
       "      <td>0.000000</td>\n",
       "    </tr>\n",
       "    <tr>\n",
       "      <th>eccentricity</th>\n",
       "      <td>0</td>\n",
       "      <td>0.000000</td>\n",
       "    </tr>\n",
       "    <tr>\n",
       "      <th>x-y_inclination(deg)</th>\n",
       "      <td>0</td>\n",
       "      <td>0.000000</td>\n",
       "    </tr>\n",
       "    <tr>\n",
       "      <th>data_arc(d)</th>\n",
       "      <td>138</td>\n",
       "      <td>0.100264</td>\n",
       "    </tr>\n",
       "    <tr>\n",
       "      <th>abs_mag_para</th>\n",
       "      <td>747</td>\n",
       "      <td>0.542736</td>\n",
       "    </tr>\n",
       "    <tr>\n",
       "      <th>geo_albedo</th>\n",
       "      <td>1230</td>\n",
       "      <td>0.893662</td>\n",
       "    </tr>\n",
       "    <tr>\n",
       "      <th>obj_name</th>\n",
       "      <td>122512</td>\n",
       "      <td>89.011596</td>\n",
       "    </tr>\n",
       "    <tr>\n",
       "      <th>rot_per(h)</th>\n",
       "      <td>126448</td>\n",
       "      <td>91.871313</td>\n",
       "    </tr>\n",
       "    <tr>\n",
       "      <th>SMASSII_spec_tax_type</th>\n",
       "      <td>136266</td>\n",
       "      <td>99.004621</td>\n",
       "    </tr>\n",
       "    <tr>\n",
       "      <th>bv_color_mag_diff</th>\n",
       "      <td>136631</td>\n",
       "      <td>99.269813</td>\n",
       "    </tr>\n",
       "    <tr>\n",
       "      <th>Tholen_spec_tax_type</th>\n",
       "      <td>136671</td>\n",
       "      <td>99.298875</td>\n",
       "    </tr>\n",
       "    <tr>\n",
       "      <th>ub_color_mag_diff</th>\n",
       "      <td>136671</td>\n",
       "      <td>99.298875</td>\n",
       "    </tr>\n",
       "    <tr>\n",
       "      <th>mag_slope_para</th>\n",
       "      <td>137517</td>\n",
       "      <td>99.913540</td>\n",
       "    </tr>\n",
       "    <tr>\n",
       "      <th>axial_ellipsoid_dim(Km)</th>\n",
       "      <td>137620</td>\n",
       "      <td>99.988375</td>\n",
       "    </tr>\n",
       "    <tr>\n",
       "      <th>std_gravitational_para</th>\n",
       "      <td>137622</td>\n",
       "      <td>99.989828</td>\n",
       "    </tr>\n",
       "    <tr>\n",
       "      <th>ir_color_mag_diff</th>\n",
       "      <td>137635</td>\n",
       "      <td>99.999273</td>\n",
       "    </tr>\n",
       "  </tbody>\n",
       "</table>\n",
       "</div>"
      ],
      "text/plain": [
       "                                  count          %\n",
       "diameter                              0   0.000000\n",
       "mean_motion(deg/d)                    0   0.000000\n",
       "class                                 0   0.000000\n",
       "earth_min_oribit_inter_dist(au)       0   0.000000\n",
       "orbital_period(d)                     0   0.000000\n",
       "physically_hazardous_asteroid         0   0.000000\n",
       "near_earth_obj                        0   0.000000\n",
       "n_obs_used                            0   0.000000\n",
       "condition_code                        0   0.000000\n",
       "mean_anomaly(deg)                     0   0.000000\n",
       "orbital_period                        0   0.000000\n",
       "aphelion_dist(au)                     0   0.000000\n",
       "perihelion_dist(au)                   0   0.000000\n",
       "argument_perihelion                   0   0.000000\n",
       "longitude_asc_node                    0   0.000000\n",
       "semi-major_axis(au)                   0   0.000000\n",
       "eccentricity                          0   0.000000\n",
       "x-y_inclination(deg)                  0   0.000000\n",
       "data_arc(d)                         138   0.100264\n",
       "abs_mag_para                        747   0.542736\n",
       "geo_albedo                         1230   0.893662\n",
       "obj_name                         122512  89.011596\n",
       "rot_per(h)                       126448  91.871313\n",
       "SMASSII_spec_tax_type            136266  99.004621\n",
       "bv_color_mag_diff                136631  99.269813\n",
       "Tholen_spec_tax_type             136671  99.298875\n",
       "ub_color_mag_diff                136671  99.298875\n",
       "mag_slope_para                   137517  99.913540\n",
       "axial_ellipsoid_dim(Km)          137620  99.988375\n",
       "std_gravitational_para           137622  99.989828\n",
       "ir_color_mag_diff                137635  99.999273"
      ]
     },
     "execution_count": 10,
     "metadata": {},
     "output_type": "execute_result"
    }
   ],
   "source": [
    "#Identify missing values \n",
    "missing= pd.concat([pd.isnull(astro_df).sum(), 100 * pd.isnull(astro_df).mean()], axis=1)\n",
    "missing.columns=['count', '%']\n",
    "missing.sort_values(by=['count'])"
   ]
  },
  {
   "cell_type": "markdown",
   "metadata": {},
   "source": [
    "***\n",
    "* **We will be dropping all the columns which have a null percentage that is greater than 80 per cent.**\n",
    "* **For those columns with null percentage less than one percentage - will will perform further analysis and determine whether to drop or interpolate.**\n",
    "\n",
    "***"
   ]
  },
  {
   "cell_type": "code",
   "execution_count": 11,
   "metadata": {},
   "outputs": [
    {
     "data": {
      "text/plain": [
       "21"
      ]
     },
     "execution_count": 11,
     "metadata": {},
     "output_type": "execute_result"
    }
   ],
   "source": [
    "# List of columns that we will be dropping\n",
    "drop_column_list = ['obj_name','rot_per(h)','SMASSII_spec_tax_type',\n",
    "             'bv_color_mag_diff','Tholen_spec_tax_type','ub_color_mag_diff','mag_slope_para',\n",
    "             'axial_ellipsoid_dim(Km)','std_gravitational_para','ir_color_mag_diff']\n",
    "\n",
    "astro_df.drop(drop_column_list, axis = 1, inplace = True)\n",
    "len(astro_df.columns)"
   ]
  },
  {
   "cell_type": "markdown",
   "metadata": {},
   "source": [
    "Notice that the number of featues has reduced from 31 to 21"
   ]
  },
  {
   "cell_type": "code",
   "execution_count": 12,
   "metadata": {},
   "outputs": [
    {
     "data": {
      "text/html": [
       "<div>\n",
       "<style scoped>\n",
       "    .dataframe tbody tr th:only-of-type {\n",
       "        vertical-align: middle;\n",
       "    }\n",
       "\n",
       "    .dataframe tbody tr th {\n",
       "        vertical-align: top;\n",
       "    }\n",
       "\n",
       "    .dataframe thead th {\n",
       "        text-align: right;\n",
       "    }\n",
       "</style>\n",
       "<table border=\"1\" class=\"dataframe\">\n",
       "  <thead>\n",
       "    <tr style=\"text-align: right;\">\n",
       "      <th></th>\n",
       "      <th>count</th>\n",
       "      <th>%</th>\n",
       "    </tr>\n",
       "  </thead>\n",
       "  <tbody>\n",
       "    <tr>\n",
       "      <th>semi-major_axis(au)</th>\n",
       "      <td>0</td>\n",
       "      <td>0.000000</td>\n",
       "    </tr>\n",
       "    <tr>\n",
       "      <th>mean_motion(deg/d)</th>\n",
       "      <td>0</td>\n",
       "      <td>0.000000</td>\n",
       "    </tr>\n",
       "    <tr>\n",
       "      <th>class</th>\n",
       "      <td>0</td>\n",
       "      <td>0.000000</td>\n",
       "    </tr>\n",
       "    <tr>\n",
       "      <th>earth_min_oribit_inter_dist(au)</th>\n",
       "      <td>0</td>\n",
       "      <td>0.000000</td>\n",
       "    </tr>\n",
       "    <tr>\n",
       "      <th>diameter</th>\n",
       "      <td>0</td>\n",
       "      <td>0.000000</td>\n",
       "    </tr>\n",
       "    <tr>\n",
       "      <th>physically_hazardous_asteroid</th>\n",
       "      <td>0</td>\n",
       "      <td>0.000000</td>\n",
       "    </tr>\n",
       "    <tr>\n",
       "      <th>near_earth_obj</th>\n",
       "      <td>0</td>\n",
       "      <td>0.000000</td>\n",
       "    </tr>\n",
       "    <tr>\n",
       "      <th>orbital_period(d)</th>\n",
       "      <td>0</td>\n",
       "      <td>0.000000</td>\n",
       "    </tr>\n",
       "    <tr>\n",
       "      <th>condition_code</th>\n",
       "      <td>0</td>\n",
       "      <td>0.000000</td>\n",
       "    </tr>\n",
       "    <tr>\n",
       "      <th>n_obs_used</th>\n",
       "      <td>0</td>\n",
       "      <td>0.000000</td>\n",
       "    </tr>\n",
       "    <tr>\n",
       "      <th>orbital_period</th>\n",
       "      <td>0</td>\n",
       "      <td>0.000000</td>\n",
       "    </tr>\n",
       "    <tr>\n",
       "      <th>aphelion_dist(au)</th>\n",
       "      <td>0</td>\n",
       "      <td>0.000000</td>\n",
       "    </tr>\n",
       "    <tr>\n",
       "      <th>perihelion_dist(au)</th>\n",
       "      <td>0</td>\n",
       "      <td>0.000000</td>\n",
       "    </tr>\n",
       "    <tr>\n",
       "      <th>argument_perihelion</th>\n",
       "      <td>0</td>\n",
       "      <td>0.000000</td>\n",
       "    </tr>\n",
       "    <tr>\n",
       "      <th>longitude_asc_node</th>\n",
       "      <td>0</td>\n",
       "      <td>0.000000</td>\n",
       "    </tr>\n",
       "    <tr>\n",
       "      <th>x-y_inclination(deg)</th>\n",
       "      <td>0</td>\n",
       "      <td>0.000000</td>\n",
       "    </tr>\n",
       "    <tr>\n",
       "      <th>eccentricity</th>\n",
       "      <td>0</td>\n",
       "      <td>0.000000</td>\n",
       "    </tr>\n",
       "    <tr>\n",
       "      <th>mean_anomaly(deg)</th>\n",
       "      <td>0</td>\n",
       "      <td>0.000000</td>\n",
       "    </tr>\n",
       "    <tr>\n",
       "      <th>data_arc(d)</th>\n",
       "      <td>138</td>\n",
       "      <td>0.100264</td>\n",
       "    </tr>\n",
       "    <tr>\n",
       "      <th>abs_mag_para</th>\n",
       "      <td>747</td>\n",
       "      <td>0.542736</td>\n",
       "    </tr>\n",
       "    <tr>\n",
       "      <th>geo_albedo</th>\n",
       "      <td>1230</td>\n",
       "      <td>0.893662</td>\n",
       "    </tr>\n",
       "  </tbody>\n",
       "</table>\n",
       "</div>"
      ],
      "text/plain": [
       "                                 count         %\n",
       "semi-major_axis(au)                  0  0.000000\n",
       "mean_motion(deg/d)                   0  0.000000\n",
       "class                                0  0.000000\n",
       "earth_min_oribit_inter_dist(au)      0  0.000000\n",
       "diameter                             0  0.000000\n",
       "physically_hazardous_asteroid        0  0.000000\n",
       "near_earth_obj                       0  0.000000\n",
       "orbital_period(d)                    0  0.000000\n",
       "condition_code                       0  0.000000\n",
       "n_obs_used                           0  0.000000\n",
       "orbital_period                       0  0.000000\n",
       "aphelion_dist(au)                    0  0.000000\n",
       "perihelion_dist(au)                  0  0.000000\n",
       "argument_perihelion                  0  0.000000\n",
       "longitude_asc_node                   0  0.000000\n",
       "x-y_inclination(deg)                 0  0.000000\n",
       "eccentricity                         0  0.000000\n",
       "mean_anomaly(deg)                    0  0.000000\n",
       "data_arc(d)                        138  0.100264\n",
       "abs_mag_para                       747  0.542736\n",
       "geo_albedo                        1230  0.893662"
      ]
     },
     "execution_count": 12,
     "metadata": {},
     "output_type": "execute_result"
    }
   ],
   "source": [
    "#Identify missing values \n",
    "missing= pd.concat([pd.isnull(astro_df).sum(), 100 * pd.isnull(astro_df).mean()], axis=1)\n",
    "missing.columns=['count', '%']\n",
    "missing.sort_values(by=['count'])"
   ]
  },
  {
   "cell_type": "markdown",
   "metadata": {},
   "source": [
    "## Analyse and deal with remaining null values\n",
    "\n",
    "-  We will visualize the nature of the data wrt each of the low null-percentage varaiables and come up with suitable ways to deal with all the null values."
   ]
  },
  {
   "cell_type": "code",
   "execution_count": 13,
   "metadata": {
    "scrolled": true
   },
   "outputs": [
    {
     "data": {
      "text/plain": [
       "count    136889.000000\n",
       "mean         15.177041\n",
       "std           1.407654\n",
       "min           3.200000\n",
       "25%          14.400000\n",
       "50%          15.300000\n",
       "75%          16.100000\n",
       "max          29.900000\n",
       "Name: abs_mag_para, dtype: float64"
      ]
     },
     "execution_count": 13,
     "metadata": {},
     "output_type": "execute_result"
    }
   ],
   "source": [
    "astro_df['abs_mag_para'].describe()"
   ]
  },
  {
   "cell_type": "markdown",
   "metadata": {},
   "source": [
    "The mean and meadian appear to have similar values, implying low skewness. Lets visualize this to get a better idea"
   ]
  },
  {
   "cell_type": "markdown",
   "metadata": {},
   "source": [
    "### Absolute magnitude parameter"
   ]
  },
  {
   "cell_type": "code",
   "execution_count": 14,
   "metadata": {
    "scrolled": true
   },
   "outputs": [
    {
     "data": {
      "text/plain": [
       "<AxesSubplot:xlabel='abs_mag_para'>"
      ]
     },
     "execution_count": 14,
     "metadata": {},
     "output_type": "execute_result"
    },
    {
     "data": {
      "image/png": "[encoded data removed]",
      "text/plain": [
       "<Figure size 432x288 with 1 Axes>"
      ]
     },
     "metadata": {
      "needs_background": "light"
     },
     "output_type": "display_data"
    }
   ],
   "source": [
    "# box plot\n",
    "sns.boxplot(x = 'abs_mag_para',data = astro_df)"
   ]
  },
  {
   "cell_type": "code",
   "execution_count": 15,
   "metadata": {},
   "outputs": [
    {
     "data": {
      "image/png": "[encoded data removed]",
      "text/plain": [
       "<Figure size 432x288 with 1 Axes>"
      ]
     },
     "metadata": {
      "needs_background": "light"
     },
     "output_type": "display_data"
    }
   ],
   "source": [
    "# Histogram\n",
    "plt.hist(astro_df['abs_mag_para'],bins=int(300/10))\n",
    "plt.show()"
   ]
  },
  {
   "cell_type": "code",
   "execution_count": 16,
   "metadata": {},
   "outputs": [],
   "source": [
    "#Owing to the fact that the data shows very little skewness, I will be filling up all the null values with the mean\n",
    "astro_df.loc[astro_df['abs_mag_para'].isnull(),'abs_mag_para'] = astro_df['abs_mag_para'].mean()"
   ]
  },
  {
   "cell_type": "code",
   "execution_count": 17,
   "metadata": {},
   "outputs": [
    {
     "data": {
      "image/png": "[encoded data removed]",
      "text/plain": [
       "<Figure size 432x288 with 1 Axes>"
      ]
     },
     "metadata": {
      "needs_background": "light"
     },
     "output_type": "display_data"
    }
   ],
   "source": [
    "plt.hist(astro_df['abs_mag_para'],bins=int(300/10))\n",
    "plt.show()"
   ]
  },
  {
   "cell_type": "markdown",
   "metadata": {},
   "source": [
    "***\n",
    "- We notice that filling up the null values with the mean of the data had negligible affect on the distribution, implying that the decision to fill null values with mean is valid.\n",
    "\n",
    "- We will repeat the same procedure for the remaining features.\n",
    "***"
   ]
  },
  {
   "cell_type": "markdown",
   "metadata": {},
   "source": [
    "### Data Arc"
   ]
  },
  {
   "cell_type": "code",
   "execution_count": 18,
   "metadata": {},
   "outputs": [
    {
     "data": {
      "text/plain": [
       "count    137498.000000\n",
       "mean       8969.818601\n",
       "std        6165.176190\n",
       "min           1.000000\n",
       "25%        6291.000000\n",
       "50%        7572.000000\n",
       "75%        9731.000000\n",
       "max       72684.000000\n",
       "Name: data_arc(d), dtype: float64"
      ]
     },
     "execution_count": 18,
     "metadata": {},
     "output_type": "execute_result"
    }
   ],
   "source": [
    "astro_df['data_arc(d)'].describe()"
   ]
  },
  {
   "cell_type": "code",
   "execution_count": 19,
   "metadata": {
    "scrolled": true
   },
   "outputs": [
    {
     "data": {
      "text/plain": [
       "<AxesSubplot:xlabel='data_arc(d)'>"
      ]
     },
     "execution_count": 19,
     "metadata": {},
     "output_type": "execute_result"
    },
    {
     "data": {
      "image/png": "[encoded data removed]",
      "text/plain": [
       "<Figure size 432x288 with 1 Axes>"
      ]
     },
     "metadata": {
      "needs_background": "light"
     },
     "output_type": "display_data"
    }
   ],
   "source": [
    "# box plot\n",
    "sns.boxplot(x = 'data_arc(d)',data = astro_df)"
   ]
  },
  {
   "cell_type": "code",
   "execution_count": 20,
   "metadata": {},
   "outputs": [
    {
     "data": {
      "image/png": "[encoded data removed]",
      "text/plain": [
       "<Figure size 432x288 with 1 Axes>"
      ]
     },
     "metadata": {
      "needs_background": "light"
     },
     "output_type": "display_data"
    }
   ],
   "source": [
    "plt.hist(astro_df['data_arc(d)'],bins=int(300/10))\n",
    "plt.show()"
   ]
  },
  {
   "cell_type": "code",
   "execution_count": 21,
   "metadata": {},
   "outputs": [
    {
     "data": {
      "text/plain": [
       "<AxesSubplot:xlabel='data_arc(d)', ylabel='Density'>"
      ]
     },
     "execution_count": 21,
     "metadata": {},
     "output_type": "execute_result"
    },
    {
     "data": {
      "image/png": "[encoded data removed]",
      "text/plain": [
       "<Figure size 432x288 with 1 Axes>"
      ]
     },
     "metadata": {
      "needs_background": "light"
     },
     "output_type": "display_data"
    }
   ],
   "source": [
    "# Distribution after imputing null values\n",
    "sns.distplot(astro_df['data_arc(d)'])"
   ]
  },
  {
   "cell_type": "markdown",
   "metadata": {},
   "source": [
    "- It is evident that the data is positively skewed. As a result, the median is preferred to fill the null values over the mean."
   ]
  },
  {
   "cell_type": "code",
   "execution_count": 22,
   "metadata": {},
   "outputs": [],
   "source": [
    "astro_df.loc[astro_df['data_arc(d)'].isnull(),'data_arc(d)'] = astro_df['data_arc(d)'].median()"
   ]
  },
  {
   "cell_type": "code",
   "execution_count": 23,
   "metadata": {},
   "outputs": [
    {
     "data": {
      "image/png": "[encoded data removed]",
      "text/plain": [
       "<Figure size 432x288 with 1 Axes>"
      ]
     },
     "metadata": {
      "needs_background": "light"
     },
     "output_type": "display_data"
    }
   ],
   "source": [
    "plt.hist(astro_df['data_arc(d)'],bins=int(300/10))\n",
    "plt.show()"
   ]
  },
  {
   "cell_type": "markdown",
   "metadata": {},
   "source": [
    "- The distribution has stayed approximtely the same. The substitution of null vlaues with median is valid "
   ]
  },
  {
   "cell_type": "markdown",
   "metadata": {},
   "source": [
    "### Albedo"
   ]
  },
  {
   "cell_type": "code",
   "execution_count": 24,
   "metadata": {},
   "outputs": [
    {
     "data": {
      "text/plain": [
       "count    136406.000000\n",
       "mean          0.130066\n",
       "std           0.109994\n",
       "min           0.001000\n",
       "25%           0.053000\n",
       "50%           0.078000\n",
       "75%           0.188000\n",
       "max           1.000000\n",
       "Name: geo_albedo, dtype: float64"
      ]
     },
     "execution_count": 24,
     "metadata": {},
     "output_type": "execute_result"
    }
   ],
   "source": [
    "astro_df['geo_albedo'].describe()"
   ]
  },
  {
   "cell_type": "code",
   "execution_count": 25,
   "metadata": {
    "scrolled": true
   },
   "outputs": [
    {
     "data": {
      "text/plain": [
       "<AxesSubplot:xlabel='geo_albedo'>"
      ]
     },
     "execution_count": 25,
     "metadata": {},
     "output_type": "execute_result"
    },
    {
     "data": {
      "image/png": "[encoded data removed]",
      "text/plain": [
       "<Figure size 432x288 with 1 Axes>"
      ]
     },
     "metadata": {
      "needs_background": "light"
     },
     "output_type": "display_data"
    }
   ],
   "source": [
    "# box plot\n",
    "sns.boxplot(x = \"geo_albedo\", data = astro_df)"
   ]
  },
  {
   "cell_type": "code",
   "execution_count": 26,
   "metadata": {},
   "outputs": [
    {
     "data": {
      "image/png": "[encoded data removed]",
      "text/plain": [
       "<Figure size 432x288 with 1 Axes>"
      ]
     },
     "metadata": {
      "needs_background": "light"
     },
     "output_type": "display_data"
    }
   ],
   "source": [
    "plt.hist(astro_df['data_arc(d)'],bins=int(300/10))\n",
    "plt.show()"
   ]
  },
  {
   "cell_type": "markdown",
   "metadata": {},
   "source": [
    "- The albedo data is also positively skewed; hence we will once again employ median subtitution"
   ]
  },
  {
   "cell_type": "code",
   "execution_count": 27,
   "metadata": {},
   "outputs": [],
   "source": [
    "astro_df.loc[astro_df['geo_albedo'].isnull(),'geo_albedo'] = astro_df['geo_albedo'].median()"
   ]
  },
  {
   "cell_type": "code",
   "execution_count": 28,
   "metadata": {},
   "outputs": [
    {
     "data": {
      "image/png": "[encoded data removed]",
      "text/plain": [
       "<Figure size 432x288 with 1 Axes>"
      ]
     },
     "metadata": {
      "needs_background": "light"
     },
     "output_type": "display_data"
    }
   ],
   "source": [
    "plt.hist(astro_df['data_arc(d)'],bins=int(300/10))\n",
    "plt.show()"
   ]
  },
  {
   "cell_type": "code",
   "execution_count": 29,
   "metadata": {},
   "outputs": [
    {
     "data": {
      "text/plain": [
       "semi-major_axis(au)                0\n",
       "eccentricity                       0\n",
       "x-y_inclination(deg)               0\n",
       "longitude_asc_node                 0\n",
       "argument_perihelion                0\n",
       "perihelion_dist(au)                0\n",
       "aphelion_dist(au)                  0\n",
       "orbital_period                     0\n",
       "data_arc(d)                        0\n",
       "condition_code                     0\n",
       "n_obs_used                         0\n",
       "abs_mag_para                       0\n",
       "near_earth_obj                     0\n",
       "physically_hazardous_asteroid      0\n",
       "diameter                           0\n",
       "geo_albedo                         0\n",
       "earth_min_oribit_inter_dist(au)    0\n",
       "class                              0\n",
       "mean_motion(deg/d)                 0\n",
       "orbital_period(d)                  0\n",
       "mean_anomaly(deg)                  0\n",
       "dtype: int64"
      ]
     },
     "execution_count": 29,
     "metadata": {},
     "output_type": "execute_result"
    }
   ],
   "source": [
    "#As you can see all the null values have been dealt with\n",
    "astro_df.isnull().sum()"
   ]
  },
  {
   "cell_type": "markdown",
   "metadata": {},
   "source": [
    "# Data types"
   ]
  },
  {
   "cell_type": "code",
   "execution_count": 30,
   "metadata": {},
   "outputs": [
    {
     "name": "stdout",
     "output_type": "stream",
     "text": [
      "<class 'pandas.core.frame.DataFrame'>\n",
      "Int64Index: 137636 entries, 0 to 810375\n",
      "Data columns (total 21 columns):\n",
      " #   Column                           Non-Null Count   Dtype  \n",
      "---  ------                           --------------   -----  \n",
      " 0   semi-major_axis(au)              137636 non-null  float64\n",
      " 1   eccentricity                     137636 non-null  float64\n",
      " 2   x-y_inclination(deg)             137636 non-null  float64\n",
      " 3   longitude_asc_node               137636 non-null  float64\n",
      " 4   argument_perihelion              137636 non-null  float64\n",
      " 5   perihelion_dist(au)              137636 non-null  float64\n",
      " 6   aphelion_dist(au)                137636 non-null  float64\n",
      " 7   orbital_period                   137636 non-null  float64\n",
      " 8   data_arc(d)                      137636 non-null  float64\n",
      " 9   condition_code                   137636 non-null  object \n",
      " 10  n_obs_used                       137636 non-null  int64  \n",
      " 11  abs_mag_para                     137636 non-null  float64\n",
      " 12  near_earth_obj                   137636 non-null  object \n",
      " 13  physically_hazardous_asteroid    137636 non-null  object \n",
      " 14  diameter                         137636 non-null  object \n",
      " 15  geo_albedo                       137636 non-null  float64\n",
      " 16  earth_min_oribit_inter_dist(au)  137636 non-null  float64\n",
      " 17  class                            137636 non-null  object \n",
      " 18  mean_motion(deg/d)               137636 non-null  float64\n",
      " 19  orbital_period(d)                137636 non-null  float64\n",
      " 20  mean_anomaly(deg)                137636 non-null  float64\n",
      "dtypes: float64(15), int64(1), object(5)\n",
      "memory usage: 23.1+ MB\n"
     ]
    }
   ],
   "source": [
    "astro_df.info()"
   ]
  },
  {
   "cell_type": "markdown",
   "metadata": {},
   "source": [
    "***\n",
    "- Now that we have dealt with all the null values in the data set, we now look into the data types. This requires knowledge about the features, which is why it is always a good practice to read up about the features before working on a model. This knowledge will help us decide if a feature is assigned to the correct data type or not.\n",
    "***"
   ]
  },
  {
   "cell_type": "markdown",
   "metadata": {},
   "source": [
    "### Object data"
   ]
  },
  {
   "cell_type": "code",
   "execution_count": 31,
   "metadata": {
    "scrolled": false
   },
   "outputs": [
    {
     "data": {
      "text/html": [
       "<div>\n",
       "<style scoped>\n",
       "    .dataframe tbody tr th:only-of-type {\n",
       "        vertical-align: middle;\n",
       "    }\n",
       "\n",
       "    .dataframe tbody tr th {\n",
       "        vertical-align: top;\n",
       "    }\n",
       "\n",
       "    .dataframe thead th {\n",
       "        text-align: right;\n",
       "    }\n",
       "</style>\n",
       "<table border=\"1\" class=\"dataframe\">\n",
       "  <thead>\n",
       "    <tr style=\"text-align: right;\">\n",
       "      <th></th>\n",
       "      <th>condition_code</th>\n",
       "      <th>near_earth_obj</th>\n",
       "      <th>physically_hazardous_asteroid</th>\n",
       "      <th>diameter</th>\n",
       "      <th>class</th>\n",
       "    </tr>\n",
       "  </thead>\n",
       "  <tbody>\n",
       "    <tr>\n",
       "      <th>797860</th>\n",
       "      <td>1</td>\n",
       "      <td>N</td>\n",
       "      <td>N</td>\n",
       "      <td>3.793</td>\n",
       "      <td>MBA</td>\n",
       "    </tr>\n",
       "    <tr>\n",
       "      <th>798077</th>\n",
       "      <td>2</td>\n",
       "      <td>N</td>\n",
       "      <td>N</td>\n",
       "      <td>2.696</td>\n",
       "      <td>MBA</td>\n",
       "    </tr>\n",
       "    <tr>\n",
       "      <th>798189</th>\n",
       "      <td>1</td>\n",
       "      <td>N</td>\n",
       "      <td>N</td>\n",
       "      <td>2.917</td>\n",
       "      <td>MBA</td>\n",
       "    </tr>\n",
       "    <tr>\n",
       "      <th>799752</th>\n",
       "      <td>2</td>\n",
       "      <td>N</td>\n",
       "      <td>N</td>\n",
       "      <td>3.271</td>\n",
       "      <td>MBA</td>\n",
       "    </tr>\n",
       "    <tr>\n",
       "      <th>810375</th>\n",
       "      <td>3</td>\n",
       "      <td>N</td>\n",
       "      <td>N</td>\n",
       "      <td>1.600</td>\n",
       "      <td>MBA</td>\n",
       "    </tr>\n",
       "  </tbody>\n",
       "</table>\n",
       "</div>"
      ],
      "text/plain": [
       "       condition_code near_earth_obj physically_hazardous_asteroid diameter  \\\n",
       "797860              1              N                             N    3.793   \n",
       "798077              2              N                             N    2.696   \n",
       "798189              1              N                             N    2.917   \n",
       "799752              2              N                             N    3.271   \n",
       "810375              3              N                             N    1.600   \n",
       "\n",
       "       class  \n",
       "797860   MBA  \n",
       "798077   MBA  \n",
       "798189   MBA  \n",
       "799752   MBA  \n",
       "810375   MBA  "
      ]
     },
     "execution_count": 31,
     "metadata": {},
     "output_type": "execute_result"
    }
   ],
   "source": [
    "astro_df.select_dtypes('object').tail()"
   ]
  },
  {
   "cell_type": "code",
   "execution_count": 32,
   "metadata": {},
   "outputs": [
    {
     "name": "stderr",
     "output_type": "stream",
     "text": [
      "C:\\Users\\prate\\AppData\\Local\\Temp/ipykernel_27700/3376340912.py:1: DeprecationWarning: `np.object` is a deprecated alias for the builtin `object`. To silence this warning, use `object` by itself. Doing this will not modify any behavior and is safe. \n",
      "Deprecated in NumPy 1.20; for more details and guidance: https://numpy.org/devdocs/release/1.20.0-notes.html#deprecations\n",
      "  astro_df.describe(include = np.object)\n"
     ]
    },
    {
     "data": {
      "text/html": [
       "<div>\n",
       "<style scoped>\n",
       "    .dataframe tbody tr th:only-of-type {\n",
       "        vertical-align: middle;\n",
       "    }\n",
       "\n",
       "    .dataframe tbody tr th {\n",
       "        vertical-align: top;\n",
       "    }\n",
       "\n",
       "    .dataframe thead th {\n",
       "        text-align: right;\n",
       "    }\n",
       "</style>\n",
       "<table border=\"1\" class=\"dataframe\">\n",
       "  <thead>\n",
       "    <tr style=\"text-align: right;\">\n",
       "      <th></th>\n",
       "      <th>condition_code</th>\n",
       "      <th>near_earth_obj</th>\n",
       "      <th>physically_hazardous_asteroid</th>\n",
       "      <th>diameter</th>\n",
       "      <th>class</th>\n",
       "    </tr>\n",
       "  </thead>\n",
       "  <tbody>\n",
       "    <tr>\n",
       "      <th>count</th>\n",
       "      <td>137636</td>\n",
       "      <td>137636</td>\n",
       "      <td>137636</td>\n",
       "      <td>137636</td>\n",
       "      <td>137636</td>\n",
       "    </tr>\n",
       "    <tr>\n",
       "      <th>unique</th>\n",
       "      <td>10</td>\n",
       "      <td>2</td>\n",
       "      <td>2</td>\n",
       "      <td>16714</td>\n",
       "      <td>11</td>\n",
       "    </tr>\n",
       "    <tr>\n",
       "      <th>top</th>\n",
       "      <td>0</td>\n",
       "      <td>N</td>\n",
       "      <td>N</td>\n",
       "      <td>4.017</td>\n",
       "      <td>MBA</td>\n",
       "    </tr>\n",
       "    <tr>\n",
       "      <th>freq</th>\n",
       "      <td>128213</td>\n",
       "      <td>136786</td>\n",
       "      <td>137415</td>\n",
       "      <td>45</td>\n",
       "      <td>126390</td>\n",
       "    </tr>\n",
       "  </tbody>\n",
       "</table>\n",
       "</div>"
      ],
      "text/plain": [
       "       condition_code near_earth_obj physically_hazardous_asteroid diameter  \\\n",
       "count          137636         137636                        137636   137636   \n",
       "unique             10              2                             2    16714   \n",
       "top                 0              N                             N    4.017   \n",
       "freq           128213         136786                        137415       45   \n",
       "\n",
       "         class  \n",
       "count   137636  \n",
       "unique      11  \n",
       "top        MBA  \n",
       "freq    126390  "
      ]
     },
     "execution_count": 32,
     "metadata": {},
     "output_type": "execute_result"
    }
   ],
   "source": [
    "astro_df.describe(include = np.object)"
   ]
  },
  {
   "cell_type": "markdown",
   "metadata": {},
   "source": [
    "***\n",
    "- We notice that due to some inconsistency in the dataset; diameter has been categorized as an object, we need to convert it to a numeric value before we proceed\n",
    "***"
   ]
  },
  {
   "cell_type": "code",
   "execution_count": 33,
   "metadata": {
    "scrolled": true
   },
   "outputs": [
    {
     "ename": "ValueError",
     "evalue": "Unable to parse string \"226 \" at position 15",
     "output_type": "error",
     "traceback": [
      "\u001b[1;31m---------------------------------------------------------------------------\u001b[0m",
      "\u001b[1;31mValueError\u001b[0m                                Traceback (most recent call last)",
      "\u001b[1;32m~\\anaconda3\\lib\\site-packages\\pandas\\_libs\\lib.pyx\u001b[0m in \u001b[0;36mpandas._libs.lib.maybe_convert_numeric\u001b[1;34m()\u001b[0m\n",
      "\u001b[1;31mValueError\u001b[0m: Unable to parse string \"226 \"",
      "\nDuring handling of the above exception, another exception occurred:\n",
      "\u001b[1;31mValueError\u001b[0m                                Traceback (most recent call last)",
      "\u001b[1;32m~\\AppData\\Local\\Temp/ipykernel_27700/2142554663.py\u001b[0m in \u001b[0;36m<module>\u001b[1;34m\u001b[0m\n\u001b[1;32m----> 1\u001b[1;33m \u001b[0mastro_df\u001b[0m\u001b[1;33m[\u001b[0m\u001b[1;34m'diameter'\u001b[0m\u001b[1;33m]\u001b[0m \u001b[1;33m=\u001b[0m \u001b[0mpd\u001b[0m\u001b[1;33m.\u001b[0m\u001b[0mto_numeric\u001b[0m\u001b[1;33m(\u001b[0m\u001b[0mastro_df\u001b[0m\u001b[1;33m[\u001b[0m\u001b[1;34m'diameter'\u001b[0m\u001b[1;33m]\u001b[0m\u001b[1;33m)\u001b[0m\u001b[1;33m\u001b[0m\u001b[1;33m\u001b[0m\u001b[0m\n\u001b[0m",
      "\u001b[1;32m~\\anaconda3\\lib\\site-packages\\pandas\\core\\tools\\numeric.py\u001b[0m in \u001b[0;36mto_numeric\u001b[1;34m(arg, errors, downcast)\u001b[0m\n\u001b[0;32m    181\u001b[0m         \u001b[0mcoerce_numeric\u001b[0m \u001b[1;33m=\u001b[0m \u001b[0merrors\u001b[0m \u001b[1;32mnot\u001b[0m \u001b[1;32min\u001b[0m \u001b[1;33m(\u001b[0m\u001b[1;34m\"ignore\"\u001b[0m\u001b[1;33m,\u001b[0m \u001b[1;34m\"raise\"\u001b[0m\u001b[1;33m)\u001b[0m\u001b[1;33m\u001b[0m\u001b[1;33m\u001b[0m\u001b[0m\n\u001b[0;32m    182\u001b[0m         \u001b[1;32mtry\u001b[0m\u001b[1;33m:\u001b[0m\u001b[1;33m\u001b[0m\u001b[1;33m\u001b[0m\u001b[0m\n\u001b[1;32m--> 183\u001b[1;33m             values, _ = lib.maybe_convert_numeric(\n\u001b[0m\u001b[0;32m    184\u001b[0m                 \u001b[0mvalues\u001b[0m\u001b[1;33m,\u001b[0m \u001b[0mset\u001b[0m\u001b[1;33m(\u001b[0m\u001b[1;33m)\u001b[0m\u001b[1;33m,\u001b[0m \u001b[0mcoerce_numeric\u001b[0m\u001b[1;33m=\u001b[0m\u001b[0mcoerce_numeric\u001b[0m\u001b[1;33m\u001b[0m\u001b[1;33m\u001b[0m\u001b[0m\n\u001b[0;32m    185\u001b[0m             )\n",
      "\u001b[1;32m~\\anaconda3\\lib\\site-packages\\pandas\\_libs\\lib.pyx\u001b[0m in \u001b[0;36mpandas._libs.lib.maybe_convert_numeric\u001b[1;34m()\u001b[0m\n",
      "\u001b[1;31mValueError\u001b[0m: Unable to parse string \"226 \" at position 15"
     ]
    }
   ],
   "source": [
    "astro_df['diameter'] = pd.to_numeric(astro_df['diameter'])"
   ]
  },
  {
   "cell_type": "code",
   "execution_count": 34,
   "metadata": {},
   "outputs": [],
   "source": [
    "astro_df.at[15,'diameter'] = 266  #changing the string value at index 15"
   ]
  },
  {
   "cell_type": "code",
   "execution_count": 35,
   "metadata": {},
   "outputs": [],
   "source": [
    "astro_df['diameter'] = pd.to_numeric(astro_df['diameter'])"
   ]
  },
  {
   "cell_type": "code",
   "execution_count": 36,
   "metadata": {
    "scrolled": true
   },
   "outputs": [
    {
     "data": {
      "text/plain": [
       "array(['0', '1', '3', '2', '4', '5', '9', '7', '6', '8'], dtype=object)"
      ]
     },
     "execution_count": 36,
     "metadata": {},
     "output_type": "execute_result"
    }
   ],
   "source": [
    "astro_df[\"condition_code\"].unique()"
   ]
  },
  {
   "cell_type": "markdown",
   "metadata": {},
   "source": [
    "-The condition code is inconsistent. It appears that it should have 10 values of the same type, but there are integers, floats, and strings. Converting it to integer type, creates consistency."
   ]
  },
  {
   "cell_type": "code",
   "execution_count": 37,
   "metadata": {},
   "outputs": [
    {
     "data": {
      "text/plain": [
       "array([0, 1, 3, 2, 4, 5, 9, 7, 6, 8], dtype=int64)"
      ]
     },
     "execution_count": 37,
     "metadata": {},
     "output_type": "execute_result"
    }
   ],
   "source": [
    "astro_df['condition_code'] = astro_df['condition_code'].astype('int64')\n",
    "astro_df.condition_code.unique()"
   ]
  },
  {
   "cell_type": "code",
   "execution_count": 38,
   "metadata": {
    "scrolled": true
   },
   "outputs": [
    {
     "data": {
      "text/plain": [
       "array(['N', 'Y'], dtype=object)"
      ]
     },
     "execution_count": 38,
     "metadata": {},
     "output_type": "execute_result"
    }
   ],
   "source": [
    "astro_df['near_earth_obj'].unique()"
   ]
  },
  {
   "cell_type": "code",
   "execution_count": 39,
   "metadata": {},
   "outputs": [
    {
     "data": {
      "text/plain": [
       "array(['N', 'Y'], dtype=object)"
      ]
     },
     "execution_count": 39,
     "metadata": {},
     "output_type": "execute_result"
    }
   ],
   "source": [
    "astro_df['physically_hazardous_asteroid'].unique()"
   ]
  },
  {
   "cell_type": "code",
   "execution_count": 40,
   "metadata": {},
   "outputs": [
    {
     "data": {
      "text/plain": [
       "array(['MBA', 'OMB', 'MCA', 'AMO', 'IMB', 'TJN', 'CEN', 'APO', 'ATE',\n",
       "       'AST', 'TNO'], dtype=object)"
      ]
     },
     "execution_count": 40,
     "metadata": {},
     "output_type": "execute_result"
    }
   ],
   "source": [
    "astro_df['class'].unique()"
   ]
  },
  {
   "cell_type": "markdown",
   "metadata": {},
   "source": [
    "### Integer data"
   ]
  },
  {
   "cell_type": "code",
   "execution_count": 41,
   "metadata": {},
   "outputs": [
    {
     "data": {
      "text/html": [
       "<div>\n",
       "<style scoped>\n",
       "    .dataframe tbody tr th:only-of-type {\n",
       "        vertical-align: middle;\n",
       "    }\n",
       "\n",
       "    .dataframe tbody tr th {\n",
       "        vertical-align: top;\n",
       "    }\n",
       "\n",
       "    .dataframe thead th {\n",
       "        text-align: right;\n",
       "    }\n",
       "</style>\n",
       "<table border=\"1\" class=\"dataframe\">\n",
       "  <thead>\n",
       "    <tr style=\"text-align: right;\">\n",
       "      <th></th>\n",
       "      <th>condition_code</th>\n",
       "      <th>n_obs_used</th>\n",
       "    </tr>\n",
       "  </thead>\n",
       "  <tbody>\n",
       "    <tr>\n",
       "      <th>0</th>\n",
       "      <td>0</td>\n",
       "      <td>1002</td>\n",
       "    </tr>\n",
       "    <tr>\n",
       "      <th>1</th>\n",
       "      <td>0</td>\n",
       "      <td>8490</td>\n",
       "    </tr>\n",
       "    <tr>\n",
       "      <th>2</th>\n",
       "      <td>0</td>\n",
       "      <td>7104</td>\n",
       "    </tr>\n",
       "    <tr>\n",
       "      <th>3</th>\n",
       "      <td>0</td>\n",
       "      <td>9325</td>\n",
       "    </tr>\n",
       "    <tr>\n",
       "      <th>4</th>\n",
       "      <td>0</td>\n",
       "      <td>2916</td>\n",
       "    </tr>\n",
       "    <tr>\n",
       "      <th>...</th>\n",
       "      <td>...</td>\n",
       "      <td>...</td>\n",
       "    </tr>\n",
       "    <tr>\n",
       "      <th>797860</th>\n",
       "      <td>1</td>\n",
       "      <td>50</td>\n",
       "    </tr>\n",
       "    <tr>\n",
       "      <th>798077</th>\n",
       "      <td>2</td>\n",
       "      <td>33</td>\n",
       "    </tr>\n",
       "    <tr>\n",
       "      <th>798189</th>\n",
       "      <td>1</td>\n",
       "      <td>47</td>\n",
       "    </tr>\n",
       "    <tr>\n",
       "      <th>799752</th>\n",
       "      <td>2</td>\n",
       "      <td>27</td>\n",
       "    </tr>\n",
       "    <tr>\n",
       "      <th>810375</th>\n",
       "      <td>3</td>\n",
       "      <td>25</td>\n",
       "    </tr>\n",
       "  </tbody>\n",
       "</table>\n",
       "<p>137636 rows × 2 columns</p>\n",
       "</div>"
      ],
      "text/plain": [
       "        condition_code  n_obs_used\n",
       "0                    0        1002\n",
       "1                    0        8490\n",
       "2                    0        7104\n",
       "3                    0        9325\n",
       "4                    0        2916\n",
       "...                ...         ...\n",
       "797860               1          50\n",
       "798077               2          33\n",
       "798189               1          47\n",
       "799752               2          27\n",
       "810375               3          25\n",
       "\n",
       "[137636 rows x 2 columns]"
      ]
     },
     "execution_count": 41,
     "metadata": {},
     "output_type": "execute_result"
    }
   ],
   "source": [
    "astro_df.select_dtypes('int64')"
   ]
  },
  {
   "cell_type": "markdown",
   "metadata": {},
   "source": [
    "### Float data"
   ]
  },
  {
   "cell_type": "code",
   "execution_count": 42,
   "metadata": {},
   "outputs": [
    {
     "data": {
      "text/html": [
       "<div>\n",
       "<style scoped>\n",
       "    .dataframe tbody tr th:only-of-type {\n",
       "        vertical-align: middle;\n",
       "    }\n",
       "\n",
       "    .dataframe tbody tr th {\n",
       "        vertical-align: top;\n",
       "    }\n",
       "\n",
       "    .dataframe thead th {\n",
       "        text-align: right;\n",
       "    }\n",
       "</style>\n",
       "<table border=\"1\" class=\"dataframe\">\n",
       "  <thead>\n",
       "    <tr style=\"text-align: right;\">\n",
       "      <th></th>\n",
       "      <th>semi-major_axis(au)</th>\n",
       "      <th>eccentricity</th>\n",
       "      <th>x-y_inclination(deg)</th>\n",
       "      <th>longitude_asc_node</th>\n",
       "      <th>argument_perihelion</th>\n",
       "      <th>perihelion_dist(au)</th>\n",
       "      <th>aphelion_dist(au)</th>\n",
       "      <th>orbital_period</th>\n",
       "      <th>data_arc(d)</th>\n",
       "      <th>abs_mag_para</th>\n",
       "      <th>diameter</th>\n",
       "      <th>geo_albedo</th>\n",
       "      <th>earth_min_oribit_inter_dist(au)</th>\n",
       "      <th>mean_motion(deg/d)</th>\n",
       "      <th>orbital_period(d)</th>\n",
       "      <th>mean_anomaly(deg)</th>\n",
       "    </tr>\n",
       "  </thead>\n",
       "  <tbody>\n",
       "    <tr>\n",
       "      <th>0</th>\n",
       "      <td>2.769165</td>\n",
       "      <td>0.076009</td>\n",
       "      <td>10.594067</td>\n",
       "      <td>80.305532</td>\n",
       "      <td>73.597694</td>\n",
       "      <td>2.558684</td>\n",
       "      <td>2.979647</td>\n",
       "      <td>4.608202</td>\n",
       "      <td>8822.0</td>\n",
       "      <td>3.34</td>\n",
       "      <td>939.400</td>\n",
       "      <td>0.0900</td>\n",
       "      <td>1.59478</td>\n",
       "      <td>0.213885</td>\n",
       "      <td>1683.145708</td>\n",
       "      <td>77.372096</td>\n",
       "    </tr>\n",
       "    <tr>\n",
       "      <th>1</th>\n",
       "      <td>2.772466</td>\n",
       "      <td>0.230337</td>\n",
       "      <td>34.836234</td>\n",
       "      <td>173.080063</td>\n",
       "      <td>310.048857</td>\n",
       "      <td>2.133865</td>\n",
       "      <td>3.411067</td>\n",
       "      <td>4.616444</td>\n",
       "      <td>72318.0</td>\n",
       "      <td>4.13</td>\n",
       "      <td>545.000</td>\n",
       "      <td>0.1010</td>\n",
       "      <td>1.23324</td>\n",
       "      <td>0.213503</td>\n",
       "      <td>1686.155999</td>\n",
       "      <td>59.699133</td>\n",
       "    </tr>\n",
       "    <tr>\n",
       "      <th>2</th>\n",
       "      <td>2.669150</td>\n",
       "      <td>0.256942</td>\n",
       "      <td>12.988919</td>\n",
       "      <td>169.852760</td>\n",
       "      <td>248.138626</td>\n",
       "      <td>1.983332</td>\n",
       "      <td>3.354967</td>\n",
       "      <td>4.360814</td>\n",
       "      <td>72684.0</td>\n",
       "      <td>5.33</td>\n",
       "      <td>246.596</td>\n",
       "      <td>0.2140</td>\n",
       "      <td>1.03454</td>\n",
       "      <td>0.226019</td>\n",
       "      <td>1592.787285</td>\n",
       "      <td>34.925016</td>\n",
       "    </tr>\n",
       "    <tr>\n",
       "      <th>3</th>\n",
       "      <td>2.361418</td>\n",
       "      <td>0.088721</td>\n",
       "      <td>7.141771</td>\n",
       "      <td>103.810804</td>\n",
       "      <td>150.728541</td>\n",
       "      <td>2.151909</td>\n",
       "      <td>2.570926</td>\n",
       "      <td>3.628837</td>\n",
       "      <td>24288.0</td>\n",
       "      <td>3.20</td>\n",
       "      <td>525.400</td>\n",
       "      <td>0.4228</td>\n",
       "      <td>1.13948</td>\n",
       "      <td>0.271609</td>\n",
       "      <td>1325.432765</td>\n",
       "      <td>95.861936</td>\n",
       "    </tr>\n",
       "    <tr>\n",
       "      <th>4</th>\n",
       "      <td>2.574249</td>\n",
       "      <td>0.191095</td>\n",
       "      <td>5.366988</td>\n",
       "      <td>141.576605</td>\n",
       "      <td>358.687607</td>\n",
       "      <td>2.082324</td>\n",
       "      <td>3.066174</td>\n",
       "      <td>4.130323</td>\n",
       "      <td>63507.0</td>\n",
       "      <td>6.85</td>\n",
       "      <td>106.699</td>\n",
       "      <td>0.2740</td>\n",
       "      <td>1.09589</td>\n",
       "      <td>0.238632</td>\n",
       "      <td>1508.600458</td>\n",
       "      <td>282.366289</td>\n",
       "    </tr>\n",
       "    <tr>\n",
       "      <th>...</th>\n",
       "      <td>...</td>\n",
       "      <td>...</td>\n",
       "      <td>...</td>\n",
       "      <td>...</td>\n",
       "      <td>...</td>\n",
       "      <td>...</td>\n",
       "      <td>...</td>\n",
       "      <td>...</td>\n",
       "      <td>...</td>\n",
       "      <td>...</td>\n",
       "      <td>...</td>\n",
       "      <td>...</td>\n",
       "      <td>...</td>\n",
       "      <td>...</td>\n",
       "      <td>...</td>\n",
       "      <td>...</td>\n",
       "    </tr>\n",
       "    <tr>\n",
       "      <th>797860</th>\n",
       "      <td>3.171225</td>\n",
       "      <td>0.159119</td>\n",
       "      <td>27.098625</td>\n",
       "      <td>309.036573</td>\n",
       "      <td>19.746812</td>\n",
       "      <td>2.666623</td>\n",
       "      <td>3.675826</td>\n",
       "      <td>5.647402</td>\n",
       "      <td>2373.0</td>\n",
       "      <td>16.20</td>\n",
       "      <td>3.793</td>\n",
       "      <td>0.0210</td>\n",
       "      <td>1.66301</td>\n",
       "      <td>0.174527</td>\n",
       "      <td>2062.713583</td>\n",
       "      <td>164.999439</td>\n",
       "    </tr>\n",
       "    <tr>\n",
       "      <th>798077</th>\n",
       "      <td>2.548410</td>\n",
       "      <td>0.076071</td>\n",
       "      <td>11.593237</td>\n",
       "      <td>246.298656</td>\n",
       "      <td>170.090810</td>\n",
       "      <td>2.354549</td>\n",
       "      <td>2.742270</td>\n",
       "      <td>4.068291</td>\n",
       "      <td>3297.0</td>\n",
       "      <td>17.30</td>\n",
       "      <td>2.696</td>\n",
       "      <td>0.0610</td>\n",
       "      <td>1.36733</td>\n",
       "      <td>0.242270</td>\n",
       "      <td>1485.943371</td>\n",
       "      <td>145.319581</td>\n",
       "    </tr>\n",
       "    <tr>\n",
       "      <th>798189</th>\n",
       "      <td>3.146246</td>\n",
       "      <td>0.220559</td>\n",
       "      <td>17.966646</td>\n",
       "      <td>137.981403</td>\n",
       "      <td>180.898833</td>\n",
       "      <td>2.452313</td>\n",
       "      <td>3.840180</td>\n",
       "      <td>5.580811</td>\n",
       "      <td>2839.0</td>\n",
       "      <td>16.80</td>\n",
       "      <td>2.917</td>\n",
       "      <td>0.0780</td>\n",
       "      <td>1.43837</td>\n",
       "      <td>0.176610</td>\n",
       "      <td>2038.391053</td>\n",
       "      <td>174.609920</td>\n",
       "    </tr>\n",
       "    <tr>\n",
       "      <th>799752</th>\n",
       "      <td>3.051336</td>\n",
       "      <td>0.287449</td>\n",
       "      <td>14.456779</td>\n",
       "      <td>343.917822</td>\n",
       "      <td>342.614839</td>\n",
       "      <td>2.174231</td>\n",
       "      <td>3.928440</td>\n",
       "      <td>5.330196</td>\n",
       "      <td>2208.0</td>\n",
       "      <td>17.20</td>\n",
       "      <td>3.271</td>\n",
       "      <td>0.0720</td>\n",
       "      <td>1.16684</td>\n",
       "      <td>0.184914</td>\n",
       "      <td>1946.853973</td>\n",
       "      <td>175.708508</td>\n",
       "    </tr>\n",
       "    <tr>\n",
       "      <th>810375</th>\n",
       "      <td>2.417477</td>\n",
       "      <td>0.109001</td>\n",
       "      <td>4.525668</td>\n",
       "      <td>148.244819</td>\n",
       "      <td>31.949854</td>\n",
       "      <td>2.153970</td>\n",
       "      <td>2.680984</td>\n",
       "      <td>3.758822</td>\n",
       "      <td>3458.0</td>\n",
       "      <td>18.40</td>\n",
       "      <td>1.600</td>\n",
       "      <td>0.0230</td>\n",
       "      <td>1.15942</td>\n",
       "      <td>0.262217</td>\n",
       "      <td>1372.909600</td>\n",
       "      <td>170.888415</td>\n",
       "    </tr>\n",
       "  </tbody>\n",
       "</table>\n",
       "<p>137636 rows × 16 columns</p>\n",
       "</div>"
      ],
      "text/plain": [
       "        semi-major_axis(au)  eccentricity  x-y_inclination(deg)  \\\n",
       "0                  2.769165      0.076009             10.594067   \n",
       "1                  2.772466      0.230337             34.836234   \n",
       "2                  2.669150      0.256942             12.988919   \n",
       "3                  2.361418      0.088721              7.141771   \n",
       "4                  2.574249      0.191095              5.366988   \n",
       "...                     ...           ...                   ...   \n",
       "797860             3.171225      0.159119             27.098625   \n",
       "798077             2.548410      0.076071             11.593237   \n",
       "798189             3.146246      0.220559             17.966646   \n",
       "799752             3.051336      0.287449             14.456779   \n",
       "810375             2.417477      0.109001              4.525668   \n",
       "\n",
       "        longitude_asc_node  argument_perihelion  perihelion_dist(au)  \\\n",
       "0                80.305532            73.597694             2.558684   \n",
       "1               173.080063           310.048857             2.133865   \n",
       "2               169.852760           248.138626             1.983332   \n",
       "3               103.810804           150.728541             2.151909   \n",
       "4               141.576605           358.687607             2.082324   \n",
       "...                    ...                  ...                  ...   \n",
       "797860          309.036573            19.746812             2.666623   \n",
       "798077          246.298656           170.090810             2.354549   \n",
       "798189          137.981403           180.898833             2.452313   \n",
       "799752          343.917822           342.614839             2.174231   \n",
       "810375          148.244819            31.949854             2.153970   \n",
       "\n",
       "        aphelion_dist(au)  orbital_period  data_arc(d)  abs_mag_para  \\\n",
       "0                2.979647        4.608202       8822.0          3.34   \n",
       "1                3.411067        4.616444      72318.0          4.13   \n",
       "2                3.354967        4.360814      72684.0          5.33   \n",
       "3                2.570926        3.628837      24288.0          3.20   \n",
       "4                3.066174        4.130323      63507.0          6.85   \n",
       "...                   ...             ...          ...           ...   \n",
       "797860           3.675826        5.647402       2373.0         16.20   \n",
       "798077           2.742270        4.068291       3297.0         17.30   \n",
       "798189           3.840180        5.580811       2839.0         16.80   \n",
       "799752           3.928440        5.330196       2208.0         17.20   \n",
       "810375           2.680984        3.758822       3458.0         18.40   \n",
       "\n",
       "        diameter  geo_albedo  earth_min_oribit_inter_dist(au)  \\\n",
       "0        939.400      0.0900                          1.59478   \n",
       "1        545.000      0.1010                          1.23324   \n",
       "2        246.596      0.2140                          1.03454   \n",
       "3        525.400      0.4228                          1.13948   \n",
       "4        106.699      0.2740                          1.09589   \n",
       "...          ...         ...                              ...   \n",
       "797860     3.793      0.0210                          1.66301   \n",
       "798077     2.696      0.0610                          1.36733   \n",
       "798189     2.917      0.0780                          1.43837   \n",
       "799752     3.271      0.0720                          1.16684   \n",
       "810375     1.600      0.0230                          1.15942   \n",
       "\n",
       "        mean_motion(deg/d)  orbital_period(d)  mean_anomaly(deg)  \n",
       "0                 0.213885        1683.145708          77.372096  \n",
       "1                 0.213503        1686.155999          59.699133  \n",
       "2                 0.226019        1592.787285          34.925016  \n",
       "3                 0.271609        1325.432765          95.861936  \n",
       "4                 0.238632        1508.600458         282.366289  \n",
       "...                    ...                ...                ...  \n",
       "797860            0.174527        2062.713583         164.999439  \n",
       "798077            0.242270        1485.943371         145.319581  \n",
       "798189            0.176610        2038.391053         174.609920  \n",
       "799752            0.184914        1946.853973         175.708508  \n",
       "810375            0.262217        1372.909600         170.888415  \n",
       "\n",
       "[137636 rows x 16 columns]"
      ]
     },
     "execution_count": 42,
     "metadata": {},
     "output_type": "execute_result"
    }
   ],
   "source": [
    "astro_df.select_dtypes('float64')"
   ]
  },
  {
   "cell_type": "markdown",
   "metadata": {},
   "source": [
    "# Outlier Analysis"
   ]
  },
  {
   "cell_type": "markdown",
   "metadata": {},
   "source": [
    "1. Outliers are those data points which differs significantly from other observations present in given dataset. It can occur because of variability in measurement and due to misinterpretation in filling data points.\n",
    "2. They usually occur due to human error, error in measurement, experimenatl errors etc.\n",
    "3. Outliers badly affect mean and standard deviation of the dataset. These may statistically give erroneous results.\n",
    "4. It increases the error variance and reduces the power of statistical tests.\n",
    "5. If the outliers are non-randomly distributed, they can decrease normality.\n",
    "6. Most machine learning algorithms do not work well in the presence of outlier. So it is desirable to detect and remove outliers.\n",
    "\n",
    "- The following reasons higlight the importance of identifying and removing outliers\n"
   ]
  },
  {
   "cell_type": "code",
   "execution_count": 43,
   "metadata": {},
   "outputs": [],
   "source": [
    "# Get all the Numerical columns list\n",
    "numerical_cols=list(astro_df.select_dtypes(include=np.number).columns)\n"
   ]
  },
  {
   "cell_type": "code",
   "execution_count": 44,
   "metadata": {},
   "outputs": [
    {
     "data": {
      "image/png": "[encoded data removed]",
      "text/plain": [
       "<Figure size 720x2520 with 18 Axes>"
      ]
     },
     "metadata": {
      "needs_background": "light"
     },
     "output_type": "display_data"
    }
   ],
   "source": [
    "rows=len(numerical_cols)//2\n",
    "cols=2\n",
    "\n",
    "fig, ax  = plt.subplots(rows,cols,figsize=(10,35))\n",
    "\n",
    "i=0\n",
    "\n",
    "for row in range(rows):\n",
    "    for col in range(cols):\n",
    "        if i < len(numerical_cols):\n",
    "#            ax[row,col].boxplot(x=numerical_cols[i],data=housing_prices,vert=False)        \n",
    "            sns.boxplot(x=numerical_cols[i],data= astro_df,saturation=1,ax=ax[row,col])\n",
    "            ax[row,col].set_title(numerical_cols[i])  \n",
    "            i=i+1\n",
    "\n",
    "plt.tight_layout()"
   ]
  },
  {
   "cell_type": "markdown",
   "metadata": {},
   "source": [
    "- We notice that there are a lot of features that have outliers which need to be treated. This is essential in obtaining a good model"
   ]
  },
  {
   "cell_type": "code",
   "execution_count": 45,
   "metadata": {},
   "outputs": [],
   "source": [
    "# Values for Numerical columns @ Quantile1  \n",
    "Q1 = astro_df[numerical_cols].quantile(0.25)\n",
    "\n",
    "# Values for Numerical columns @ Quantile3  \n",
    "Q3 = astro_df[numerical_cols].quantile(0.75)\n",
    "\n",
    "# InterQuantileRange Values for Numerical columns \n",
    "IQR = Q3 - Q1\n",
    "\n",
    "# Lower Outlier Cutoff\n",
    "LC = Q1 - 1.5 * IQR\n",
    "\n",
    "# Upper Outlier Cutoff\n",
    "UC = Q3 + 1.5 * IQR"
   ]
  },
  {
   "cell_type": "code",
   "execution_count": 46,
   "metadata": {
    "scrolled": false
   },
   "outputs": [
    {
     "name": "stdout",
     "output_type": "stream",
     "text": [
      "No. of rows left after removing the Statistical outliers\n"
     ]
    },
    {
     "data": {
      "text/plain": [
       "100988"
      ]
     },
     "execution_count": 46,
     "metadata": {},
     "output_type": "execute_result"
    }
   ],
   "source": [
    "print('No. of rows left after removing the Statistical outliers')\n",
    "astro_df[~((astro_df[numerical_cols] < (LC)) |(astro_df[numerical_cols] > (UC))).any(axis=1)].shape[0]"
   ]
  },
  {
   "cell_type": "markdown",
   "metadata": {},
   "source": [
    "***\n",
    "- Since the number of samples that remain after removing the outliers is significant enough to train the data set - I have removed all the outliers\n",
    "***"
   ]
  },
  {
   "cell_type": "code",
   "execution_count": 47,
   "metadata": {},
   "outputs": [],
   "source": [
    "astro_df = astro_df[~((astro_df[numerical_cols] < (LC)) |(astro_df[numerical_cols] > (UC))).any(axis=1)]"
   ]
  },
  {
   "cell_type": "code",
   "execution_count": 48,
   "metadata": {},
   "outputs": [
    {
     "data": {
      "text/plain": [
       "(100988, 21)"
      ]
     },
     "execution_count": 48,
     "metadata": {},
     "output_type": "execute_result"
    }
   ],
   "source": [
    "astro_df.shape"
   ]
  },
  {
   "cell_type": "markdown",
   "metadata": {},
   "source": [
    "# Exploring the Data"
   ]
  },
  {
   "cell_type": "code",
   "execution_count": 49,
   "metadata": {},
   "outputs": [
    {
     "data": {
      "text/plain": [
       "['near_earth_obj', 'physically_hazardous_asteroid', 'class']"
      ]
     },
     "execution_count": 49,
     "metadata": {},
     "output_type": "execute_result"
    }
   ],
   "source": [
    "data_type = astro_df.dtypes\n",
    "data_type[(data_type == 'object')|(data_type == 'category')].index.tolist()"
   ]
  },
  {
   "cell_type": "markdown",
   "metadata": {},
   "source": [
    "1. Near Earth Object (NEO) : An asteroid or comet that is less than 1.3 au from the sun.\n",
    "2. Physically Hazardous: Determined by whether it is an NEO and its size.\n",
    "    \n",
    "- Since the physically hazardous classifer is based on the target, it cannot be used for modeling.\n",
    "- The NEO classifer is represented within the more specific classifer of orbit class, so the NEO classifer is not needed for further exploration."
   ]
  },
  {
   "cell_type": "code",
   "execution_count": 50,
   "metadata": {},
   "outputs": [],
   "source": [
    "drop_list = ['near_earth_obj', 'physically_hazardous_asteroid']\n",
    "astro_df.drop(drop_list, axis=1, inplace=True)"
   ]
  },
  {
   "cell_type": "code",
   "execution_count": 51,
   "metadata": {},
   "outputs": [],
   "source": [
    "astro_df.drop('condition_code', axis=1, inplace=True)"
   ]
  },
  {
   "cell_type": "code",
   "execution_count": 52,
   "metadata": {
    "scrolled": true
   },
   "outputs": [
    {
     "data": {
      "image/png": "[encoded data removed]",
      "text/plain": [
       "<Figure size 1440x720 with 2 Axes>"
      ]
     },
     "metadata": {
      "needs_background": "light"
     },
     "output_type": "display_data"
    }
   ],
   "source": [
    "plt.figure(figsize=(20,10))\n",
    "sns.set(font_scale=1.4)\n",
    "sns.heatmap(astro_df.corr(),annot=True, cmap='inferno', fmt='.2f', annot_kws={'size':14});"
   ]
  },
  {
   "cell_type": "code",
   "execution_count": 53,
   "metadata": {
    "scrolled": true
   },
   "outputs": [
    {
     "data": {
      "text/html": [
       "<div>\n",
       "<style scoped>\n",
       "    .dataframe tbody tr th:only-of-type {\n",
       "        vertical-align: middle;\n",
       "    }\n",
       "\n",
       "    .dataframe tbody tr th {\n",
       "        vertical-align: top;\n",
       "    }\n",
       "\n",
       "    .dataframe thead th {\n",
       "        text-align: right;\n",
       "    }\n",
       "</style>\n",
       "<table border=\"1\" class=\"dataframe\">\n",
       "  <thead>\n",
       "    <tr style=\"text-align: right;\">\n",
       "      <th></th>\n",
       "      <th>class</th>\n",
       "    </tr>\n",
       "  </thead>\n",
       "  <tbody>\n",
       "    <tr>\n",
       "      <th>2859</th>\n",
       "      <td>MBA</td>\n",
       "    </tr>\n",
       "    <tr>\n",
       "      <th>3040</th>\n",
       "      <td>MBA</td>\n",
       "    </tr>\n",
       "    <tr>\n",
       "      <th>3074</th>\n",
       "      <td>MBA</td>\n",
       "    </tr>\n",
       "    <tr>\n",
       "      <th>3159</th>\n",
       "      <td>MBA</td>\n",
       "    </tr>\n",
       "    <tr>\n",
       "      <th>3285</th>\n",
       "      <td>MBA</td>\n",
       "    </tr>\n",
       "    <tr>\n",
       "      <th>...</th>\n",
       "      <td>...</td>\n",
       "    </tr>\n",
       "    <tr>\n",
       "      <th>797088</th>\n",
       "      <td>MBA</td>\n",
       "    </tr>\n",
       "    <tr>\n",
       "      <th>797156</th>\n",
       "      <td>MBA</td>\n",
       "    </tr>\n",
       "    <tr>\n",
       "      <th>797203</th>\n",
       "      <td>MBA</td>\n",
       "    </tr>\n",
       "    <tr>\n",
       "      <th>797237</th>\n",
       "      <td>MBA</td>\n",
       "    </tr>\n",
       "    <tr>\n",
       "      <th>797805</th>\n",
       "      <td>MBA</td>\n",
       "    </tr>\n",
       "  </tbody>\n",
       "</table>\n",
       "<p>100988 rows × 1 columns</p>\n",
       "</div>"
      ],
      "text/plain": [
       "       class\n",
       "2859     MBA\n",
       "3040     MBA\n",
       "3074     MBA\n",
       "3159     MBA\n",
       "3285     MBA\n",
       "...      ...\n",
       "797088   MBA\n",
       "797156   MBA\n",
       "797203   MBA\n",
       "797237   MBA\n",
       "797805   MBA\n",
       "\n",
       "[100988 rows x 1 columns]"
      ]
     },
     "execution_count": 53,
     "metadata": {},
     "output_type": "execute_result"
    }
   ],
   "source": [
    "astro_df.select_dtypes(object)"
   ]
  },
  {
   "cell_type": "code",
   "execution_count": 54,
   "metadata": {},
   "outputs": [
    {
     "data": {
      "text/plain": [
       "array(['MBA', 'MCA', 'OMB'], dtype=object)"
      ]
     },
     "execution_count": 54,
     "metadata": {},
     "output_type": "execute_result"
    }
   ],
   "source": [
    "astro_df['class'].unique()"
   ]
  },
  {
   "cell_type": "code",
   "execution_count": 55,
   "metadata": {},
   "outputs": [],
   "source": [
    "astro_df = pd.get_dummies(astro_df, columns=['class'])  #This is equivalent to encoding the categorical data"
   ]
  },
  {
   "cell_type": "markdown",
   "metadata": {},
   "source": [
    "# Feature selection\n",
    "\n",
    "I have performed feature selection on the basis of correlation"
   ]
  },
  {
   "cell_type": "code",
   "execution_count": 56,
   "metadata": {},
   "outputs": [],
   "source": [
    "corr = astro_df.corr()"
   ]
  },
  {
   "cell_type": "code",
   "execution_count": 57,
   "metadata": {},
   "outputs": [
    {
     "data": {
      "text/plain": [
       "(20, 20)"
      ]
     },
     "execution_count": 57,
     "metadata": {},
     "output_type": "execute_result"
    }
   ],
   "source": [
    "corr.shape"
   ]
  },
  {
   "cell_type": "code",
   "execution_count": 58,
   "metadata": {},
   "outputs": [
    {
     "data": {
      "text/plain": [
       "(100988, 20)"
      ]
     },
     "execution_count": 58,
     "metadata": {},
     "output_type": "execute_result"
    }
   ],
   "source": [
    "astro_df.shape"
   ]
  },
  {
   "cell_type": "code",
   "execution_count": 59,
   "metadata": {},
   "outputs": [],
   "source": [
    "columns = np.full((corr.shape[0],), True, dtype=bool)\n",
    "for i in range(corr.shape[0]):\n",
    "    for j in range(i+1, corr.shape[0]):\n",
    "        if corr.iloc[i,j] >= 0.9:\n",
    "            if columns[j]:\n",
    "                columns[j] = False\n",
    "selected_columns = astro_df.columns[columns]\n",
    "astro_df = astro_df[selected_columns]"
   ]
  },
  {
   "cell_type": "markdown",
   "metadata": {},
   "source": [
    "***\n",
    "- The above block of code removes on of the pair of features that have a correlation that is greater than 0.9\n",
    "***"
   ]
  },
  {
   "cell_type": "code",
   "execution_count": 60,
   "metadata": {},
   "outputs": [
    {
     "data": {
      "text/plain": [
       "(100988, 17)"
      ]
     },
     "execution_count": 60,
     "metadata": {},
     "output_type": "execute_result"
    }
   ],
   "source": [
    "astro_df.shape"
   ]
  },
  {
   "cell_type": "code",
   "execution_count": 61,
   "metadata": {},
   "outputs": [],
   "source": [
    "#Split data into features and target.\n",
    "y = astro_df['diameter']\n",
    "X = astro_df.drop(columns = 'diameter')"
   ]
  },
  {
   "cell_type": "code",
   "execution_count": 62,
   "metadata": {},
   "outputs": [],
   "source": [
    "#Standarize the features\n",
    "\n",
    "#Apply a standard scaler to the data.\n",
    "SS_scaler = StandardScaler()\n",
    "\n",
    "# Fit the standard scaler to the data.\n",
    "x_std = SS_scaler.fit_transform(X)"
   ]
  },
  {
   "cell_type": "code",
   "execution_count": 63,
   "metadata": {},
   "outputs": [],
   "source": [
    "#Create training and test data.\n",
    "X_train, X_test, y_train, y_test = train_test_split(\n",
    "    x_std, y, test_size=0.2, random_state=42)"
   ]
  },
  {
   "cell_type": "code",
   "execution_count": 64,
   "metadata": {},
   "outputs": [],
   "source": [
    "from sklearn.metrics import mean_squared_error      #for getting the mean squared error\n",
    "from sklearn.metrics import r2_score         #to get the accuracy of each model"
   ]
  },
  {
   "cell_type": "code",
   "execution_count": 65,
   "metadata": {},
   "outputs": [
    {
     "name": "stdout",
     "output_type": "stream",
     "text": [
      "root mean square error : 0.6845637752928833\n",
      "R2 Score :  0.861085220501361\n"
     ]
    }
   ],
   "source": [
    "from sklearn.linear_model import LinearRegression\n",
    "model_linr = LinearRegression()\n",
    "model_linr.fit(X_train, y_train)\n",
    "model_linr.predict(X_test)\n",
    "\n",
    "diameterPrediction  = model_linr.predict(X_test)\n",
    "mse = mean_squared_error(y_test, diameterPrediction)\n",
    "rmse = np.sqrt(mse)\n",
    "print(\"root mean square error : \"+str(rmse))\n",
    "\n",
    "r2_linr = r2_score(y_test,diameterPrediction)\n",
    "print(\"R2 Score : \",r2_linr)          "
   ]
  },
  {
   "cell_type": "code",
   "execution_count": 66,
   "metadata": {},
   "outputs": [
    {
     "name": "stdout",
     "output_type": "stream",
     "text": [
      "root mean square error : 0.6845651190604235\n",
      "R2 Score :  0.861084675134044\n"
     ]
    }
   ],
   "source": [
    "from sklearn.linear_model import Ridge\n",
    "model_ridge = Ridge()\n",
    "model_ridge.fit(X_train, y_train)\n",
    "model_ridge.predict(X_test)\n",
    "\n",
    "diameterPrediction  = model_ridge.predict(X_test)\n",
    "mse = mean_squared_error(y_test, diameterPrediction)\n",
    "rmse = np.sqrt(mse)\n",
    "print(\"root mean square error : \"+str(rmse))\n",
    "\n",
    "r2_ridge = r2_score(y_test,diameterPrediction)\n",
    "print(\"R2 Score : \",r2_ridge) "
   ]
  },
  {
   "cell_type": "code",
   "execution_count": 67,
   "metadata": {},
   "outputs": [
    {
     "name": "stdout",
     "output_type": "stream",
     "text": [
      "root mean square error : 0.7274244539188887\n",
      "R2 Score :  0.8431457035372962\n"
     ]
    }
   ],
   "source": [
    "from sklearn import linear_model\n",
    "model_lin = linear_model.Lasso(alpha=0.1)\n",
    "model_lin.fit(X_train, y_train)\n",
    "model_lin.predict(X_test)\n",
    "\n",
    "diameterPrediction  = model_lin.predict(X_test)\n",
    "mse = mean_squared_error(y_test, diameterPrediction)\n",
    "rmse = np.sqrt(mse)\n",
    "print(\"root mean square error : \"+str(rmse))\n",
    "\n",
    "r2_lin = r2_score(y_test,diameterPrediction)\n",
    "print(\"R2 Score : \",r2_lin) "
   ]
  },
  {
   "cell_type": "code",
   "execution_count": 68,
   "metadata": {},
   "outputs": [
    {
     "name": "stdout",
     "output_type": "stream",
     "text": [
      "root mean square error : 0.6475703059855182\n",
      "R2 Score :  0.8756933169380248\n"
     ]
    }
   ],
   "source": [
    "from sklearn.neighbors import KNeighborsRegressor\n",
    "model_kn = KNeighborsRegressor()\n",
    "model_kn.fit(X_train, y_train)\n",
    "model_kn.predict(X_test)\n",
    "\n",
    "diameterPrediction  = model_kn.predict(X_test)\n",
    "mse = mean_squared_error(y_test, diameterPrediction)\n",
    "rmse = np.sqrt(mse)\n",
    "print(\"root mean square error : \"+str(rmse))\n",
    "\n",
    "r2_kn = r2_score(y_test,diameterPrediction)\n",
    "print(\"R2 Score : \",r2_kn)"
   ]
  },
  {
   "cell_type": "code",
   "execution_count": 69,
   "metadata": {},
   "outputs": [
    {
     "name": "stdout",
     "output_type": "stream",
     "text": [
      "root mean square error : 0.5888030982205396\n",
      "R2 Score :  0.8972313151431479\n"
     ]
    }
   ],
   "source": [
    "from sklearn.tree import DecisionTreeRegressor\n",
    "model_dtree = DecisionTreeRegressor()\n",
    "model_dtree.fit(X_train, y_train)\n",
    "model_dtree.predict(X_test)\n",
    "\n",
    "Cost_prediction  = model_dtree.predict(X_test)\n",
    "mse = mean_squared_error(y_test, Cost_prediction)\n",
    "rmse = np.sqrt(mse)\n",
    "print(\"root mean square error : \"+str(rmse))\n",
    "r2_dtree = r2_score(y_test,Cost_prediction)\n",
    "print(\"R2 Score : \",r2_dtree)   "
   ]
  },
  {
   "cell_type": "code",
   "execution_count": 70,
   "metadata": {},
   "outputs": [
    {
     "name": "stdout",
     "output_type": "stream",
     "text": [
      "root mean square error : 0.4177353366723337\n",
      "R2 Score :  0.948272313613627\n"
     ]
    }
   ],
   "source": [
    "from sklearn.ensemble import RandomForestRegressor\n",
    "model_rf = RandomForestRegressor()\n",
    "model_rf.fit(X_train, y_train)\n",
    "model_rf.predict(X_test)\n",
    "\n",
    "Cost_prediction = model_rf.predict(X_test)\n",
    "mse = mean_squared_error(y_test, Cost_prediction)\n",
    "rmse = np.sqrt(mse)\n",
    "print(\"root mean square error : \"+str(rmse))\n",
    "\n",
    "r2_rf = r2_score(y_test,Cost_prediction)\n",
    "print(\"R2 Score : \",r2_rf)"
   ]
  },
  {
   "cell_type": "code",
   "execution_count": 71,
   "metadata": {},
   "outputs": [
    {
     "name": "stdout",
     "output_type": "stream",
     "text": [
      "root mean square error : 0.4330290733674233\n",
      "R2 Score :  0.9444153677028286\n"
     ]
    }
   ],
   "source": [
    "from sklearn.ensemble import GradientBoostingRegressor\n",
    "\n",
    "model_gdb = GradientBoostingRegressor()\n",
    "model_gdb.fit(X_train, y_train)\n",
    "model_gdb.predict(X_test)\n",
    "\n",
    "Cost_prediction  = model_gdb.predict(X_test)\n",
    "mse = mean_squared_error(y_test, Cost_prediction)\n",
    "rmse = np.sqrt(mse)\n",
    "print(\"root mean square error : \"+str(rmse))\n",
    "\n",
    "r2_gdb = r2_score(y_test,Cost_prediction)\n",
    "print(\"R2 Score : \",r2_gdb)"
   ]
  },
  {
   "cell_type": "code",
   "execution_count": 72,
   "metadata": {},
   "outputs": [
    {
     "name": "stdout",
     "output_type": "stream",
     "text": [
      "root mean square error : 0.4128020539578711\n",
      "R2 Score :  0.9494868647910978\n"
     ]
    }
   ],
   "source": [
    "from xgboost import XGBRegressor\n",
    "\n",
    "model_xg = XGBRegressor()\n",
    "model_xg.fit(X_train, y_train)\n",
    "model_xg.predict(X_test)\n",
    "\n",
    "Cost_prediction = model_xg.predict(X_test)\n",
    "mse = mean_squared_error(y_test, Cost_prediction)\n",
    "rmse = np.sqrt(mse)\n",
    "print(\"root mean square error : \"+str(rmse))\n",
    "\n",
    "r2_xg = r2_score(y_test,Cost_prediction)\n",
    "print(\"R2 Score : \",r2_xg)  "
   ]
  },
  {
   "cell_type": "code",
   "execution_count": 75,
   "metadata": {},
   "outputs": [
    {
     "data": {
      "image/png": "[encoded data removed]",
      "text/plain": [
       "<Figure size 1440x720 with 1 Axes>"
      ]
     },
     "metadata": {},
     "output_type": "display_data"
    }
   ],
   "source": [
    "ml_models = [\"Linear_Regression\",\"ridge\",\"linear_model\",\"KNeighbours\",\"Decision Trees\",\"Random Forest\", \"Gradient Boosting\", \"XGboost\"]\n",
    "performance = [r2_linr,r2_ridge,r2_lin,r2_kn,r2_dtree,r2_rf,r2_gdb,r2_xg]\n",
    "plt.bar(ml_models, performance, color = \"green\")\n",
    "\n",
    "plt.rcParams[\"figure.figsize\"] = (25,10)\n",
    "plt.xlabel(\"Machine Learning models used for prediction\")\n",
    "plt.ylabel(\"R2 score\")\n",
    "plt.title(\"Relative performance of ML models on dataset\")\n",
    "plt.show()"
   ]
  },
  {
   "cell_type": "markdown",
   "metadata": {},
   "source": [
    "### XGBoost is the clear winner with an r2 score of : 0.95  and hence can be used to predict the size of asteroids"
   ]
  },
  {
   "cell_type": "code",
   "execution_count": null,
   "metadata": {},
   "outputs": [],
   "source": []
  }
 ],
 "metadata": {
  "colab": {
   "collapsed_sections": [],
   "name": "final-assgn.ipynb",
   "provenance": []
  },
  "kernelspec": {
   "display_name": "Python 3 (ipykernel)",
   "language": "python",
   "name": "python3"
  },
  "language_info": {
   "codemirror_mode": {
    "name": "ipython",
    "version": 3
   },
   "file_extension": ".py",
   "mimetype": "text/x-python",
   "name": "python",
   "nbconvert_exporter": "python",
   "pygments_lexer": "ipython3",
   "version": "3.9.7"
  }
 },
 "nbformat": 4,
 "nbformat_minor": 1
}
